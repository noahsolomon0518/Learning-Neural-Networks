{
 "cells": [
  {
   "cell_type": "code",
   "execution_count": 31,
   "metadata": {},
   "outputs": [],
   "source": [
    "import keras\n",
    "import numpy as np\n",
    "from keras.datasets import reuters\n",
    "from keras import layers, models"
   ]
  },
  {
   "cell_type": "code",
   "execution_count": 32,
   "metadata": {},
   "outputs": [],
   "source": [
    "(trainX,trainY),(testX,testY) =reuters.load_data(num_words = 10000)"
   ]
  },
  {
   "cell_type": "code",
   "execution_count": 33,
   "metadata": {},
   "outputs": [],
   "source": [
    "def vectorize(x, dim=10000):\n",
    "    vectorizedX = np.zeros((len(x),dim))\n",
    "    for i,sequence in enumerate(x):\n",
    "        vectorizedX[i][sequence] =1\n",
    "    return vectorizedX\n",
    "\n",
    "def toOneHot(x, dim=46):\n",
    "    vectorizedX = np.zeros((len(x),dim))\n",
    "    for i,sequence in enumerate(x):\n",
    "        vectorizedX[i][sequence] =1\n",
    "    return vectorizedX\n",
    "\n",
    "\n",
    "\n",
    "trainY = toOneHot(trainY)\n",
    "testY = toOneHot(testY)\n",
    "\n",
    "\n",
    "trainX = vectorize(trainX)\n",
    "testX = vectorize(testX)\n",
    "\n",
    "\n"
   ]
  },
  {
   "cell_type": "code",
   "execution_count": 34,
   "metadata": {},
   "outputs": [],
   "source": [
    "valX = trainX[:1000]\n",
    "trainX = trainX[1000:]\n",
    "valY = trainY[:1000]\n",
    "trainY = trainY[1000:]"
   ]
  },
  {
   "cell_type": "code",
   "execution_count": 35,
   "metadata": {},
   "outputs": [],
   "source": [
    "model = models.Sequential()\n",
    "model.add(layers.Dense(64, activation = 'relu', input_shape =(10000,)))\n",
    "model.add(layers.Dense(64, activation = 'relu'))\n",
    "model.add(layers.Dense(46, activation = 'softmax'))\n",
    "model.compile(optimizer = 'rmsprop', loss = 'categorical_crossentropy', metrics = ['accuracy'])"
   ]
  },
  {
   "cell_type": "code",
   "execution_count": 36,
   "metadata": {},
   "outputs": [
    {
     "name": "stdout",
     "output_type": "stream",
     "text": [
      "Epoch 1/20\n",
      "16/16 [==============================] - 0s 29ms/step - loss: 2.6874 - accuracy: 0.4877 - val_loss: 1.7903 - val_accuracy: 0.6610\n",
      "Epoch 2/20\n",
      "16/16 [==============================] - 0s 15ms/step - loss: 1.4225 - accuracy: 0.7165 - val_loss: 1.3005 - val_accuracy: 0.7210\n",
      "Epoch 3/20\n",
      "16/16 [==============================] - 0s 15ms/step - loss: 1.0305 - accuracy: 0.7853 - val_loss: 1.1366 - val_accuracy: 0.7570\n",
      "Epoch 4/20\n",
      "16/16 [==============================] - 0s 15ms/step - loss: 0.8051 - accuracy: 0.8319 - val_loss: 1.0155 - val_accuracy: 0.7960\n",
      "Epoch 5/20\n",
      "16/16 [==============================] - 0s 15ms/step - loss: 0.6388 - accuracy: 0.8723 - val_loss: 0.9810 - val_accuracy: 0.8020\n",
      "Epoch 6/20\n",
      "16/16 [==============================] - 0s 15ms/step - loss: 0.5087 - accuracy: 0.8985 - val_loss: 0.9452 - val_accuracy: 0.8040\n",
      "Epoch 7/20\n",
      "16/16 [==============================] - 0s 15ms/step - loss: 0.4128 - accuracy: 0.9156 - val_loss: 0.9156 - val_accuracy: 0.8080\n",
      "Epoch 8/20\n",
      "16/16 [==============================] - 0s 15ms/step - loss: 0.3343 - accuracy: 0.9256 - val_loss: 0.8933 - val_accuracy: 0.8210\n",
      "Epoch 9/20\n",
      "16/16 [==============================] - 0s 15ms/step - loss: 0.2773 - accuracy: 0.9364 - val_loss: 0.9227 - val_accuracy: 0.8100\n",
      "Epoch 10/20\n",
      "16/16 [==============================] - 0s 15ms/step - loss: 0.2361 - accuracy: 0.9448 - val_loss: 0.9241 - val_accuracy: 0.8100\n",
      "Epoch 11/20\n",
      "16/16 [==============================] - 0s 15ms/step - loss: 0.2020 - accuracy: 0.9508 - val_loss: 0.9381 - val_accuracy: 0.8140\n",
      "Epoch 12/20\n",
      "16/16 [==============================] - 0s 15ms/step - loss: 0.1822 - accuracy: 0.9531 - val_loss: 0.9519 - val_accuracy: 0.8140\n",
      "Epoch 13/20\n",
      "16/16 [==============================] - 0s 15ms/step - loss: 0.1647 - accuracy: 0.9543 - val_loss: 0.9792 - val_accuracy: 0.8160\n",
      "Epoch 14/20\n",
      "16/16 [==============================] - 0s 15ms/step - loss: 0.1508 - accuracy: 0.9543 - val_loss: 0.9670 - val_accuracy: 0.8230\n",
      "Epoch 15/20\n",
      "16/16 [==============================] - 0s 17ms/step - loss: 0.1387 - accuracy: 0.9562 - val_loss: 0.9764 - val_accuracy: 0.8160\n",
      "Epoch 16/20\n",
      "16/16 [==============================] - 0s 17ms/step - loss: 0.1321 - accuracy: 0.9562 - val_loss: 1.0796 - val_accuracy: 0.8010\n",
      "Epoch 17/20\n",
      "16/16 [==============================] - 0s 17ms/step - loss: 0.1244 - accuracy: 0.9578 - val_loss: 1.0752 - val_accuracy: 0.8020\n",
      "Epoch 18/20\n",
      "16/16 [==============================] - 0s 18ms/step - loss: 0.1163 - accuracy: 0.9572 - val_loss: 1.0879 - val_accuracy: 0.8040\n",
      "Epoch 19/20\n",
      "16/16 [==============================] - 0s 19ms/step - loss: 0.1206 - accuracy: 0.9573 - val_loss: 1.1271 - val_accuracy: 0.7950\n",
      "Epoch 20/20\n",
      "16/16 [==============================] - 0s 17ms/step - loss: 0.1145 - accuracy: 0.9568 - val_loss: 1.0874 - val_accuracy: 0.8100\n"
     ]
    }
   ],
   "source": [
    "modelFit = model.fit(trainX,trainY, epochs=20, batch_size=512, validation_data = (valX,valY))"
   ]
  },
  {
   "cell_type": "code",
   "execution_count": 37,
   "metadata": {},
   "outputs": [
    {
     "data": {
      "text/plain": [
       "<matplotlib.collections.PathCollection at 0x7f99c45e9670>"
      ]
     },
     "execution_count": 37,
     "metadata": {},
     "output_type": "execute_result"
    },
    {
     "data": {
      "image/png": "[encoded data removed]",
      "text/plain": [
       "<Figure size 432x288 with 1 Axes>"
      ]
     },
     "metadata": {
      "needs_background": "light"
     },
     "output_type": "display_data"
    }
   ],
   "source": [
    "modelHist = modelFit.history\n",
    "modelHist\n",
    "\n",
    "import matplotlib.pyplot as plt\n",
    "plt.scatter(range(len(modelHist['loss'])),modelHist['loss'])\n",
    "plt.scatter(range(len(modelHist['loss'])),modelHist['val_loss'])"
   ]
  },
  {
   "cell_type": "code",
   "execution_count": 38,
   "metadata": {},
   "outputs": [
    {
     "data": {
      "text/plain": [
       "<matplotlib.collections.PathCollection at 0x7f99c600a310>"
      ]
     },
     "execution_count": 38,
     "metadata": {},
     "output_type": "execute_result"
    },
    {
     "data": {
      "image/png": "[encoded data removed]",
      "text/plain": [
       "<Figure size 432x288 with 1 Axes>"
      ]
     },
     "metadata": {
      "needs_background": "light"
     },
     "output_type": "display_data"
    }
   ],
   "source": [
    "plt.scatter(range(len(modelHist['loss'])),modelHist['accuracy'])\n",
    "plt.scatter(range(len(modelHist['loss'])),modelHist['val_accuracy'])"
   ]
  },
  {
   "cell_type": "code",
   "execution_count": 41,
   "metadata": {},
   "outputs": [
    {
     "data": {
      "text/plain": [
       "3"
      ]
     },
     "execution_count": 41,
     "metadata": {},
     "output_type": "execute_result"
    }
   ],
   "source": [
    "np.argmax(model.predict(testX)[0])"
   ]
  },
  {
   "cell_type": "code",
   "execution_count": 43,
   "metadata": {},
   "outputs": [
    {
     "data": {
      "text/plain": [
       "array([1.4862701e-05, 4.7839359e-05, 5.4091892e-08, 9.3599749e-01,\n",
       "       6.1257455e-02, 4.0687116e-08, 3.3243106e-07, 1.6858183e-05,\n",
       "       8.8876591e-04, 1.6746360e-06, 3.3109085e-05, 3.3845584e-04,\n",
       "       3.1157080e-05, 3.1625103e-05, 3.6829695e-07, 5.4062315e-07,\n",
       "       5.2943851e-05, 9.0549435e-07, 1.5096107e-05, 2.1549435e-04,\n",
       "       1.5584439e-04, 5.6464149e-04, 4.1269122e-06, 1.5252061e-05,\n",
       "       7.0466052e-07, 1.0294140e-05, 3.0599469e-07, 3.5087149e-07,\n",
       "       7.0305528e-06, 4.2805600e-06, 1.0381158e-04, 1.7645021e-06,\n",
       "       4.6234259e-06, 6.0150987e-06, 1.6881928e-05, 8.2031227e-05,\n",
       "       4.5232446e-05, 2.5681654e-08, 1.6522154e-05, 1.1961631e-05,\n",
       "       6.5202772e-07, 8.0108822e-07, 1.2638513e-06, 1.2927403e-07,\n",
       "       4.3407056e-08, 3.1781292e-07], dtype=float32)"
      ]
     },
     "execution_count": 43,
     "metadata": {},
     "output_type": "execute_result"
    }
   ],
   "source": [
    "model.predict(testX)[0]"
   ]
  },
  {
   "cell_type": "code",
   "execution_count": null,
   "metadata": {},
   "outputs": [],
   "source": []
  }
 ],
 "metadata": {
  "kernelspec": {
   "display_name": "Python 3",
   "language": "python",
   "name": "python3"
  },
  "language_info": {
   "codemirror_mode": {
    "name": "ipython",
    "version": 3
   },
   "file_extension": ".py",
   "mimetype": "text/x-python",
   "name": "python",
   "nbconvert_exporter": "python",
   "pygments_lexer": "ipython3",
   "version": "3.8.3"
  }
 },
 "nbformat": 4,
 "nbformat_minor": 4
}
