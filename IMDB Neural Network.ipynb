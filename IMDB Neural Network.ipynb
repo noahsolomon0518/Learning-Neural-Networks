{
 "cells": [
  {
   "cell_type": "code",
   "execution_count": 24,
   "metadata": {},
   "outputs": [],
   "source": [
    "import keras\n",
    "from keras.datasets import imdb\n",
    "import numpy as np\n",
    "(trainX, trainY),(testX, testY) = imdb.load_data(num_words=10000)"
   ]
  },
  {
   "cell_type": "code",
   "execution_count": 25,
   "metadata": {},
   "outputs": [
    {
     "data": {
      "text/plain": [
       "9999"
      ]
     },
     "execution_count": 25,
     "metadata": {},
     "output_type": "execute_result"
    }
   ],
   "source": [
    "max([max(seq) for seq in trainX])\n"
   ]
  },
  {
   "cell_type": "code",
   "execution_count": 26,
   "metadata": {},
   "outputs": [],
   "source": [
    "\n",
    "def vectorize(x, dim=10000):\n",
    "    vectorizedX = np.zeros((len(x),dim))\n",
    "    for i,sequence in enumerate(x):\n",
    "        vectorizedX[i][sequence] =1\n",
    "    return vectorizedX"
   ]
  },
  {
   "cell_type": "code",
   "execution_count": 27,
   "metadata": {},
   "outputs": [],
   "source": [
    "trainX = vectorize(trainX)\n",
    "testX = vectorize(testX)"
   ]
  },
  {
   "cell_type": "code",
   "execution_count": 29,
   "metadata": {},
   "outputs": [],
   "source": [
    "trainY = np.asarray(trainY)\n",
    "testY = np.asarray(testY)\n"
   ]
  },
  {
   "cell_type": "code",
   "execution_count": 38,
   "metadata": {},
   "outputs": [],
   "source": [
    "from keras import models,layers\n",
    "\n",
    "model = models.Sequential()\n",
    "model.add(layers.Dense(16, activation = 'relu', input_shape = (10000,)))\n",
    "model.add(layers.Dense(16, activation = 'relu'))\n",
    "model.add(layers.Dense(1, activation = 'sigmoid'))\n",
    "\n",
    "model.compile(optimizer = 'rmsprop', loss='binary_crossentropy', metrics = ['accuracy'])"
   ]
  },
  {
   "cell_type": "code",
   "execution_count": 39,
   "metadata": {},
   "outputs": [],
   "source": [
    "valX = trainX[:10000]\n",
    "trainX = trainX[10000:]\n",
    "valY = trainY[:10000]\n",
    "trainY = trainY[10000:]\n"
   ]
  },
  {
   "cell_type": "code",
   "execution_count": 40,
   "metadata": {},
   "outputs": [
    {
     "name": "stdout",
     "output_type": "stream",
     "text": [
      "Epoch 1/20\n",
      "10/10 [==============================] - 1s 77ms/step - loss: 0.6465 - accuracy: 0.6510 - val_loss: 0.5863 - val_accuracy: 0.8242\n",
      "Epoch 2/20\n",
      "10/10 [==============================] - 0s 18ms/step - loss: 0.5099 - accuracy: 0.8466 - val_loss: 0.5031 - val_accuracy: 0.8528\n",
      "Epoch 3/20\n",
      "10/10 [==============================] - 0s 18ms/step - loss: 0.4230 - accuracy: 0.8952 - val_loss: 0.4450 - val_accuracy: 0.8633\n",
      "Epoch 4/20\n",
      "10/10 [==============================] - 0s 17ms/step - loss: 0.3424 - accuracy: 0.9342 - val_loss: 0.4257 - val_accuracy: 0.8249\n",
      "Epoch 5/20\n",
      "10/10 [==============================] - 0s 18ms/step - loss: 0.2867 - accuracy: 0.9462 - val_loss: 0.3896 - val_accuracy: 0.8435\n",
      "Epoch 6/20\n",
      "10/10 [==============================] - 0s 18ms/step - loss: 0.2341 - accuracy: 0.9576 - val_loss: 0.3452 - val_accuracy: 0.8733\n",
      "Epoch 7/20\n",
      "10/10 [==============================] - 0s 17ms/step - loss: 0.1950 - accuracy: 0.9680 - val_loss: 0.3779 - val_accuracy: 0.8393\n",
      "Epoch 8/20\n",
      "10/10 [==============================] - 0s 17ms/step - loss: 0.1590 - accuracy: 0.9744 - val_loss: 0.3303 - val_accuracy: 0.8658\n",
      "Epoch 9/20\n",
      "10/10 [==============================] - 0s 17ms/step - loss: 0.1335 - accuracy: 0.9810 - val_loss: 0.3365 - val_accuracy: 0.8591\n",
      "Epoch 10/20\n",
      "10/10 [==============================] - 0s 18ms/step - loss: 0.1081 - accuracy: 0.9882 - val_loss: 0.3148 - val_accuracy: 0.8726\n",
      "Epoch 11/20\n",
      "10/10 [==============================] - 0s 21ms/step - loss: 0.0889 - accuracy: 0.9916 - val_loss: 0.3134 - val_accuracy: 0.8738\n",
      "Epoch 12/20\n",
      "10/10 [==============================] - 0s 20ms/step - loss: 0.0750 - accuracy: 0.9932 - val_loss: 0.3165 - val_accuracy: 0.8712\n",
      "Epoch 13/20\n",
      "10/10 [==============================] - 0s 23ms/step - loss: 0.0584 - accuracy: 0.9960 - val_loss: 0.3278 - val_accuracy: 0.8678\n",
      "Epoch 14/20\n",
      "10/10 [==============================] - 0s 19ms/step - loss: 0.0487 - accuracy: 0.9964 - val_loss: 0.3546 - val_accuracy: 0.8613\n",
      "Epoch 15/20\n",
      "10/10 [==============================] - 0s 18ms/step - loss: 0.0375 - accuracy: 0.9982 - val_loss: 0.3476 - val_accuracy: 0.8647\n",
      "Epoch 16/20\n",
      "10/10 [==============================] - 0s 18ms/step - loss: 0.0298 - accuracy: 0.9984 - val_loss: 0.3517 - val_accuracy: 0.8679\n",
      "Epoch 17/20\n",
      "10/10 [==============================] - 0s 21ms/step - loss: 0.0239 - accuracy: 0.9988 - val_loss: 0.3655 - val_accuracy: 0.8672\n",
      "Epoch 18/20\n",
      "10/10 [==============================] - 0s 20ms/step - loss: 0.0210 - accuracy: 0.9990 - val_loss: 0.3864 - val_accuracy: 0.8648\n",
      "Epoch 19/20\n",
      "10/10 [==============================] - 0s 18ms/step - loss: 0.0145 - accuracy: 0.9996 - val_loss: 0.3954 - val_accuracy: 0.8651\n",
      "Epoch 20/20\n",
      "10/10 [==============================] - 0s 18ms/step - loss: 0.0114 - accuracy: 0.9998 - val_loss: 0.4096 - val_accuracy: 0.8640\n"
     ]
    }
   ],
   "source": [
    "hist = model.fit(trainX, trainY,epochs = 20, batch_size = 512, validation_data= (valX,valY))"
   ]
  },
  {
   "cell_type": "code",
   "execution_count": 44,
   "metadata": {},
   "outputs": [
    {
     "data": {
      "text/plain": [
       "<matplotlib.collections.PathCollection at 0x7f3208703f40>"
      ]
     },
     "execution_count": 44,
     "metadata": {},
     "output_type": "execute_result"
    },
    {
     "data": {
      "image/png": "[encoded data removed]",
      "text/plain": [
       "<Figure size 432x288 with 1 Axes>"
      ]
     },
     "metadata": {
      "needs_background": "light"
     },
     "output_type": "display_data"
    }
   ],
   "source": [
    "modelHist = hist.history\n",
    "modelHist\n",
    "\n",
    "import matplotlib.pyplot as plt\n",
    "plt.scatter(range(len(modelHist['loss'])),modelHist['loss'])\n",
    "plt.scatter(range(len(modelHist['loss'])),modelHist['val_loss'])"
   ]
  },
  {
   "cell_type": "code",
   "execution_count": 45,
   "metadata": {},
   "outputs": [
    {
     "data": {
      "text/plain": [
       "<matplotlib.collections.PathCollection at 0x7f3205844280>"
      ]
     },
     "execution_count": 45,
     "metadata": {},
     "output_type": "execute_result"
    },
    {
     "data": {
      "image/png": "[encoded data removed]",
      "text/plain": [
       "<Figure size 432x288 with 1 Axes>"
      ]
     },
     "metadata": {
      "needs_background": "light"
     },
     "output_type": "display_data"
    }
   ],
   "source": [
    "plt.scatter(range(len(modelHist['loss'])),modelHist['accuracy'])\n",
    "plt.scatter(range(len(modelHist['loss'])),modelHist['val_accuracy'])"
   ]
  },
  {
   "cell_type": "code",
   "execution_count": 46,
   "metadata": {},
   "outputs": [
    {
     "name": "stdout",
     "output_type": "stream",
     "text": [
      "782/782 [==============================] - 1s 827us/step - loss: 0.4393 - accuracy: 0.8526\n"
     ]
    }
   ],
   "source": [
    "evaluate = model.evaluate(testX,testY)"
   ]
  },
  {
   "cell_type": "code",
   "execution_count": null,
   "metadata": {},
   "outputs": [],
   "source": []
  }
 ],
 "metadata": {
  "kernelspec": {
   "display_name": "Python 3",
   "language": "python",
   "name": "python3"
  },
  "language_info": {
   "codemirror_mode": {
    "name": "ipython",
    "version": 3
   },
   "file_extension": ".py",
   "mimetype": "text/x-python",
   "name": "python",
   "nbconvert_exporter": "python",
   "pygments_lexer": "ipython3",
   "version": "3.8.3"
  }
 },
 "nbformat": 4,
 "nbformat_minor": 4
}
