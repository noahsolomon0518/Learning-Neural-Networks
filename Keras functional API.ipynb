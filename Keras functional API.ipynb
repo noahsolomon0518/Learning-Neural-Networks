{
 "cells": [
  {
   "cell_type": "code",
   "execution_count": 2,
   "metadata": {},
   "outputs": [],
   "source": [
    "#Example\n",
    "\n",
    "from keras.layers import Dense, Embedding, LSTM, concatenate\n",
    "from keras.models import Model\n",
    "from keras import Input\n",
    "\n",
    "inputTensor = Input(shape=(64,))\n",
    "x = Dense(32, activation ='relu')(inputTensor)\n",
    "x = Dense(32,activation = 'relu')(x)\n",
    "outputTensor = Dense(10, activation ='softmax')(x)\n",
    "\n",
    "model = Model(inputTensor, outputTensor)"
   ]
  },
  {
   "cell_type": "code",
   "execution_count": 3,
   "metadata": {},
   "outputs": [
    {
     "name": "stdout",
     "output_type": "stream",
     "text": [
      "Model: \"functional_1\"\n",
      "_________________________________________________________________\n",
      "Layer (type)                 Output Shape              Param #   \n",
      "=================================================================\n",
      "input_1 (InputLayer)         [(None, 64)]              0         \n",
      "_________________________________________________________________\n",
      "dense (Dense)                (None, 32)                2080      \n",
      "_________________________________________________________________\n",
      "dense_1 (Dense)              (None, 32)                1056      \n",
      "_________________________________________________________________\n",
      "dense_2 (Dense)              (None, 10)                330       \n",
      "=================================================================\n",
      "Total params: 3,466\n",
      "Trainable params: 3,466\n",
      "Non-trainable params: 0\n",
      "_________________________________________________________________\n"
     ]
    }
   ],
   "source": [
    "model.summary()"
   ]
  },
  {
   "cell_type": "code",
   "execution_count": 6,
   "metadata": {},
   "outputs": [],
   "source": [
    "#Merge 2 models!\n",
    "from keras.models import Model\n",
    "\n",
    "textVocab = 10000\n",
    "questionVocab = 10000\n",
    "answerVocab = 500\n",
    "\n",
    "textInput = Input(shape = (None,), dtype = 'int32', name = 'text')\n",
    "embedText = Embedding(64,textVocab)(textInput)\n",
    "encodText = LSTM(32)(embedText)\n",
    "\n",
    "questionInput = Input(shape = (None,), dtype = 'int32', name = 'question')\n",
    "embedQuestion = Embedding(32, questionVocab)(questionInput)\n",
    "encodQuestion = LSTM(32)(embedQuestion)\n",
    "\n",
    "concat = concatenate([encodText,encodQuestion], axis = -1)\n",
    "answer = Dense(answerVocab, activation = 'softmax')(concat)\n",
    "model = Model([textInput, questionInput], answer)\n",
    "model.compile(optimizer = 'rmsprop', loss = 'categorical_crossentropy')"
   ]
  },
  {
   "cell_type": "code",
   "execution_count": null,
   "metadata": {},
   "outputs": [],
   "source": []
  }
 ],
 "metadata": {
  "kernelspec": {
   "display_name": "Python 3",
   "language": "python",
   "name": "python3"
  },
  "language_info": {
   "codemirror_mode": {
    "name": "ipython",
    "version": 3
   },
   "file_extension": ".py",
   "mimetype": "text/x-python",
   "name": "python",
   "nbconvert_exporter": "python",
   "pygments_lexer": "ipython3",
   "version": "3.8.3"
  }
 },
 "nbformat": 4,
 "nbformat_minor": 4
}
