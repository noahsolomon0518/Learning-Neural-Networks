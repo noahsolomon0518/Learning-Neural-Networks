{
 "cells": [
  {
   "cell_type": "code",
   "execution_count": 8,
   "metadata": {},
   "outputs": [],
   "source": [
    "import pandas as pd\n",
    "import numpy as np\n",
    "from keras.layers import Dense,LSTM, Embedding\n",
    "from keras.models import Model, Sequential\n",
    "debate1 = pd.read_csv('/home/noah/Datasets/Presidential Debate/debate1.csv').to_numpy()\n",
    "debate2 = pd.read_csv('/home/noah/Datasets/Presidential Debate/debate2.csv').to_numpy()\n",
    "bidenTownHall = pd.read_csv('/home/noah/Datasets/Presidential Debate/bidenTownHall.csv').to_numpy()\n",
    "trumpTownHall = pd.read_csv('/home/noah/Datasets/Presidential Debate/trumpTownHall.csv').to_numpy()"
   ]
  },
  {
   "cell_type": "code",
   "execution_count": 22,
   "metadata": {},
   "outputs": [
    {
     "name": "stdout",
     "output_type": "stream",
     "text": [
      "Speakers at trump town hall: \n",
      " ['Adam Schucher' 'Barbara Peña' 'Cindy Velez' 'Cristy Montesinos Alonso'\n",
      " 'Isabella Peña' 'Jacqueline Lugo' 'Moriah Geene' 'Paulette Dale'\n",
      " 'President Trump' 'Savannah' 'Savannah Guthrie' 'Speaker 1']\n",
      "Amount of times trump speaks: 202\n"
     ]
    }
   ],
   "source": [
    "print(\"Speakers at trump town hall: \\n\" , np.unique(trumpTownHall[:,0]))\n",
    "print(\"Amount of times trump speaks:\",len([trump for trump in trumpTownHall[:,0] if trump == \"President Trump\"]))"
   ]
  },
  {
   "cell_type": "code",
   "execution_count": 21,
   "metadata": {},
   "outputs": [
    {
     "name": "stdout",
     "output_type": "stream",
     "text": [
      "Speakers at biden town hall: \n",
      " ['Andrew Lewis' 'Angelia Politarhos' 'Anthony Archer' 'Cedric Humphrey'\n",
      " 'George Stephanopoulos' 'George Stephanopoulus' 'Joe Biden'\n",
      " 'Keenan Wilson' 'Kelly Lee' 'Mark Hoffman' 'Michele Ellison'\n",
      " 'Mieke Haeck' 'Nathan Osburn' 'Nicholas Fed' 'Speaker 1' 'Speaker 2'\n",
      " 'Speaker 3' 'Voice Over']\n",
      "Amount of times biden speaks: 125\n"
     ]
    }
   ],
   "source": [
    "print(\"Speakers at biden town hall: \\n\" , np.unique(bidenTownHall[:,0]))\n",
    "print(\"Amount of times biden speaks:\",len([biden for biden in bidenTownHall[:,0] if biden == \"Joe Biden\"]))"
   ]
  },
  {
   "cell_type": "code",
   "execution_count": 24,
   "metadata": {},
   "outputs": [
    {
     "name": "stdout",
     "output_type": "stream",
     "text": [
      "Speakers at debate 2: \n",
      " ['Donald Trump' 'Joe Biden' 'Kristen Welker']\n",
      "Amount of times biden speaks: 133\n",
      "Amount of times trump speaks: 190\n"
     ]
    }
   ],
   "source": [
    "print(\"Speakers at debate 2: \\n\" , np.unique(debate2[:,0]))\n",
    "print(\"Amount of times biden speaks:\",len([biden for biden in debate2[:,0] if biden == \"Joe Biden\"]))\n",
    "print(\"Amount of times trump speaks:\",len([trump for trump in debate2[:,0] if trump == \"Donald Trump\"]))"
   ]
  },
  {
   "cell_type": "code",
   "execution_count": 26,
   "metadata": {},
   "outputs": [
    {
     "name": "stdout",
     "output_type": "stream",
     "text": [
      "Speakers at debate 1: \n",
      " ['Chris Wallace' 'Chris Wallace:' 'President Donald J. Trump'\n",
      " 'Vice President Joe Biden']\n",
      "Amount of times biden speaks: 249\n",
      "Amount of times trump speaks: 314\n"
     ]
    }
   ],
   "source": [
    "print(\"Speakers at debate 1: \\n\" , np.unique(debate1[:,0]))\n",
    "print(\"Amount of times biden speaks:\",len([biden for biden in debate1[:,0] if biden == \"Vice President Joe Biden\"]))\n",
    "print(\"Amount of times trump speaks:\",len([trump for trump in debate1[:,0] if trump == \"President Donald J. Trump\"]))"
   ]
  },
  {
   "cell_type": "code",
   "execution_count": 118,
   "metadata": {},
   "outputs": [
    {
     "name": "stdout",
     "output_type": "stream",
     "text": [
      "Max padding:  282\n"
     ]
    }
   ],
   "source": [
    "events = [debate1,debate2,bidenTownHall,trumpTownHall]\n",
    "\n",
    "print(\"Max padding: \",max([max([len(sequence.split()) for sequence in event[:,2]]) for event in events]))"
   ]
  },
  {
   "cell_type": "code",
   "execution_count": 189,
   "metadata": {},
   "outputs": [],
   "source": [
    "from keras.preprocessing.sequence import pad_sequences\n",
    "from keras.preprocessing.text import Tokenizer\n",
    "vocab = 1000\n",
    "maxLen = 282\n",
    "tok = Tokenizer(num_words = vocab)\n",
    "\n",
    "\n",
    "#May be slight skew towards model predicting trump as there are more samples for trump.\n",
    "#Trump - 0 \n",
    "#Biden - 1\n",
    "def extractDataFromSet(data, names, wordThresh):\n",
    "    nameCol = data[:,0]\n",
    "    textCol = data[:,2]\n",
    "    length = len(nameCol)\n",
    "    indices = [i for i in range(length) if nameCol[i] in names and len(textCol[i].split())>wordThresh]\n",
    "    tok.fit_on_texts(data[indices,2])\n",
    "    textCol = pad_sequences(tok.texts_to_sequences(textCol[indices]), maxlen = maxLen)\n",
    "    targets = []\n",
    "    for i in indices:\n",
    "        if(nameCol[i]==names[0]):\n",
    "            targets.append(0)\n",
    "        else:\n",
    "            targets.append(1)\n",
    "\n",
    "    \n",
    "  \n",
    "    return np.hstack((textCol,np.expand_dims(targets, axis=1)))"
   ]
  },
  {
   "cell_type": "code",
   "execution_count": 224,
   "metadata": {},
   "outputs": [],
   "source": [
    "thresh = 4\n",
    "set1 = extractDataFromSet(debate1, ['President Donald J. Trump','Vice President Joe Biden'],thresh)\n",
    "set2 = extractDataFromSet(debate2, ['Donald Trump','Joe Biden'],thresh)\n",
    "set3 = extractDataFromSet(trumpTownHall, ['President Trump','Joe Biden'],thresh)\n",
    "set4 = extractDataFromSet(bidenTownHall, ['President Trump','Joe Biden'],thresh)"
   ]
  },
  {
   "cell_type": "code",
   "execution_count": 225,
   "metadata": {},
   "outputs": [
    {
     "name": "stdout",
     "output_type": "stream",
     "text": [
      "[0 0 0 0 0 0 0 0 1 0 1 0 0 0 0 0 1 0 0 1 1 1 1 0 0 0 0 1 1 0 0 1 1 0 1 0 1\n",
      " 0 0 0 1 0 1 1 0 1 0 0 0 1 0 0 0 0 1 1 1 1 0 1 0 1 0 0 1 0 0 1 1 1 0 0 1 1\n",
      " 0 1 1 1 0 0 0 0 0 0 1 1 1 1 0 0 1 0 1 0 0 0 0 0 0 0 0 0 1 1 0 0 0 0 0 0 1\n",
      " 0 1 0 1 1 1 0 0 0 0 0 1 0 0 0 1 0 0 0 0 0 1 0 0 0 0 1 0 0 1 0 1 1 0 0 1 0\n",
      " 0 1 1 1 1 0 1 0 0 0 0 1 0 0 0 0 1 0 1 1 0 0 0 0 1 0 0 1 0 0 0 0 1 0 0 0 1\n",
      " 0 0 1 1 0 1 1 0 1 0 0 0 0 1 1 0 1 0 1 0 0 1 0 0 0 0 0 1 0 0 0 1 1 1 0 0 0\n",
      " 1 1 1 0 1 1 0 0 1 1 1 0 1 1 1 0 0 0 0 1 0 0 0 1 1 0 0 1 0 0 1 0 1 0 0 0 0\n",
      " 0 0 1 1 0 0 0 0 0 0 0 0 0 0 1 1 0 0 1 0 1 0 1 0 0 1 1 0 1 1 0 0 0 0 0 0 0\n",
      " 1 0 0 0 0 0 0 1 0 1 0 0 1 0 0 0 1 1 1 0 0 0 0 0 0 1 0 0 1 1 1 0 0 1 0 0 0\n",
      " 0 1 0 0 0 0 1 1 0 1 0 0 0 1 0 0 0 1 0 1 1 0 0 0 0 0 1 0 0 1 0 1 1 0 1 1 0\n",
      " 1 1 1 1 1 0 0 0 1 0 0 0 1 0 1 0 0 1 1 0 0 0 1 1 1 0 1 0 1 0 0 0 0 0 1 0 1\n",
      " 0 1 1 0 0 1 1 1 0 1 0 1 0 0 0 0 1 0 1 0 1 0 0 0 0 1 0 1 0 1 1 0 1 0 1 1 0\n",
      " 0 0 1 0 0 0 1 0 0 1 1 1 0 0 0 0 1 0 1 0 1 0 0 0 0 0 1 0 0 0 0 1 0 0 1 0 0\n",
      " 0 0 0 0 1 1 0 0 0 1 0 1 0 0 0 1 1 1 1 0 0 1 0 1 1 0 1 1 0 0 0 0 0 0 0 0 0\n",
      " 0 1 1 0 1 1 0 0 0 0 1 0 1 0 0 1 1 0 1 1 1 1 1 1 0 0 1 1 1 1 0 0 0 1 1 0 0\n",
      " 0 0 0 0 0 0 1 1 0 0 0 1 0 1 1 1 0 1 0 0 0 1 0 0 1 1 1 1 1 1 1 0 0 1 0 1 0\n",
      " 1 1 0 1 1 0 0 0 0 1 1 0 0 1 1 0 1 0 0 0 1 1 1 1 0 0 1 1 1 0 0 1 1 1 0 1 0\n",
      " 0 0 1 0 0 0 0 1 1 1 0 1 1 0 0 0 1 1 1 0 0 1 1 1 1 0 0 0 1 0 1 0 1 0 0 1 0\n",
      " 1 1 0 1 0 1 1 0 1 1 1 1 0 1 0 0 0 0 0 1 0 0 1 1 0 0 1 0 0 0 0 0 0 0 1 1 1\n",
      " 0 0 0 0 1 1 0 1 1 0 0 0 0 1 0 0 1 1 0 0 0 1 1 0 1 0 1 0 0 1 0 0 0 0 0 0 1\n",
      " 0 1 1 1 0 1 0 0 0 0 1 1 1 0 1 1 1 0 0 0 0 0 0 0 1 0 1 1 0 0 0 1 0 0 1 0 0\n",
      " 1 0 0 1 0 1 1 0 1 1 1 0 1 0 1 0 0 0 0 1 1 0 0 0 0 1 0 0 1 0 0 0 0 0 1 0 1\n",
      " 1 0 0 1 1 1 1 1 0 0 1 0 1 1 0 0 1 1 1 1 0 1 1 0 0 0 0 1 0 1 1 1 0 0 1 1 0\n",
      " 0 1 0 0 0 0 0 1 0 0 1 1 0 0 1 1 1 1 0 0 1 0 1 0 0 0 1 1 0 1 0 1 1 0 0 1 0\n",
      " 0 1 0 0 0 1 0 1 0 0 0 0 1 0 1 1 0 0 0 1 1 1 1 0 1 0 0 0 1 0 1 0 1 0 0 0 0\n",
      " 1 1 1 1 0 1 0 0 0]\n"
     ]
    }
   ],
   "source": [
    "cleanData = np.concatenate([set1, set2, set3, set4])\n",
    "sequences = cleanData[:,:-1]\n",
    "targets = cleanData[:,-1]\n",
    "indices = np.arange(len(targets))\n",
    "np.random.shuffle(indices)\n",
    "sequences = sequences[indices]\n",
    "targets = targets[indices]\n",
    "print(targets)"
   ]
  },
  {
   "cell_type": "code",
   "execution_count": 233,
   "metadata": {},
   "outputs": [
    {
     "name": "stdout",
     "output_type": "stream",
     "text": [
      "Epoch 1/100\n",
      "24/24 [==============================] - 4s 175ms/step - loss: 0.6831 - accuracy: 0.5944 - val_loss: 0.6717 - val_accuracy: 0.5615\n",
      "Epoch 2/100\n",
      "24/24 [==============================] - 4s 162ms/step - loss: 0.6515 - accuracy: 0.5971 - val_loss: 0.6596 - val_accuracy: 0.5615\n",
      "Epoch 3/100\n",
      "24/24 [==============================] - 4s 164ms/step - loss: 0.6272 - accuracy: 0.6399 - val_loss: 0.7072 - val_accuracy: 0.5722\n",
      "Epoch 4/100\n",
      "24/24 [==============================] - 4s 163ms/step - loss: 0.5817 - accuracy: 0.7336 - val_loss: 0.6255 - val_accuracy: 0.7754\n",
      "Epoch 5/100\n",
      "24/24 [==============================] - 4s 163ms/step - loss: 0.5257 - accuracy: 0.7818 - val_loss: 0.5679 - val_accuracy: 0.7807\n",
      "Epoch 6/100\n",
      "24/24 [==============================] - 4s 164ms/step - loss: 0.4555 - accuracy: 0.8126 - val_loss: 0.6669 - val_accuracy: 0.6738\n",
      "Epoch 7/100\n",
      "24/24 [==============================] - 4s 165ms/step - loss: 0.4067 - accuracy: 0.8367 - val_loss: 0.4863 - val_accuracy: 0.7647\n",
      "Epoch 8/100\n",
      "24/24 [==============================] - 4s 163ms/step - loss: 0.3499 - accuracy: 0.8581 - val_loss: 0.4695 - val_accuracy: 0.7807\n",
      "Epoch 9/100\n",
      "24/24 [==============================] - 4s 164ms/step - loss: 0.3044 - accuracy: 0.8728 - val_loss: 0.4697 - val_accuracy: 0.7914\n",
      "Epoch 10/100\n",
      "24/24 [==============================] - 4s 163ms/step - loss: 0.2948 - accuracy: 0.8755 - val_loss: 0.4710 - val_accuracy: 0.7968\n",
      "Epoch 11/100\n",
      "24/24 [==============================] - 4s 165ms/step - loss: 0.2620 - accuracy: 0.8889 - val_loss: 0.4967 - val_accuracy: 0.7914\n",
      "Epoch 12/100\n",
      "24/24 [==============================] - 4s 166ms/step - loss: 0.2371 - accuracy: 0.9090 - val_loss: 0.5938 - val_accuracy: 0.7754\n",
      "Epoch 13/100\n",
      "24/24 [==============================] - 4s 166ms/step - loss: 0.2188 - accuracy: 0.9103 - val_loss: 0.5536 - val_accuracy: 0.7861\n",
      "Epoch 14/100\n",
      "24/24 [==============================] - 4s 164ms/step - loss: 0.1925 - accuracy: 0.9250 - val_loss: 0.5647 - val_accuracy: 0.7861\n",
      "Epoch 15/100\n",
      "24/24 [==============================] - 4s 163ms/step - loss: 0.1812 - accuracy: 0.9237 - val_loss: 0.6321 - val_accuracy: 0.7701\n",
      "Epoch 16/100\n",
      "24/24 [==============================] - 4s 168ms/step - loss: 0.1780 - accuracy: 0.9277 - val_loss: 0.6315 - val_accuracy: 0.7861\n",
      "Epoch 17/100\n",
      "24/24 [==============================] - 4s 172ms/step - loss: 0.1616 - accuracy: 0.9331 - val_loss: 0.6016 - val_accuracy: 0.7594\n",
      "Epoch 18/100\n",
      "24/24 [==============================] - 4s 167ms/step - loss: 0.1360 - accuracy: 0.9465 - val_loss: 0.6964 - val_accuracy: 0.7914\n",
      "Epoch 19/100\n",
      "24/24 [==============================] - 4s 171ms/step - loss: 0.1449 - accuracy: 0.9411 - val_loss: 0.6955 - val_accuracy: 0.7701\n",
      "Epoch 20/100\n",
      "24/24 [==============================] - 4s 177ms/step - loss: 0.1237 - accuracy: 0.9518 - val_loss: 0.6772 - val_accuracy: 0.7968\n",
      "Epoch 21/100\n",
      "24/24 [==============================] - 4s 166ms/step - loss: 0.1296 - accuracy: 0.9518 - val_loss: 0.6763 - val_accuracy: 0.7273\n",
      "Epoch 22/100\n",
      "24/24 [==============================] - 4s 172ms/step - loss: 0.1010 - accuracy: 0.9598 - val_loss: 0.8069 - val_accuracy: 0.7487\n",
      "Epoch 23/100\n",
      "24/24 [==============================] - 4s 177ms/step - loss: 0.1043 - accuracy: 0.9572 - val_loss: 0.8226 - val_accuracy: 0.7754\n",
      "Epoch 24/100\n",
      "24/24 [==============================] - 5s 205ms/step - loss: 0.1251 - accuracy: 0.9531 - val_loss: 0.7817 - val_accuracy: 0.7487\n",
      "Epoch 25/100\n",
      "24/24 [==============================] - 4s 168ms/step - loss: 0.0886 - accuracy: 0.9665 - val_loss: 0.8098 - val_accuracy: 0.7754\n",
      "Epoch 26/100\n",
      "24/24 [==============================] - 4s 161ms/step - loss: 0.0806 - accuracy: 0.9692 - val_loss: 0.9557 - val_accuracy: 0.7594\n",
      "Epoch 27/100\n",
      "24/24 [==============================] - 4s 160ms/step - loss: 0.0836 - accuracy: 0.9705 - val_loss: 0.8741 - val_accuracy: 0.7540\n",
      "Epoch 28/100\n",
      "24/24 [==============================] - 4s 160ms/step - loss: 0.0762 - accuracy: 0.9746 - val_loss: 1.0291 - val_accuracy: 0.7487\n",
      "Epoch 29/100\n",
      "24/24 [==============================] - 4s 165ms/step - loss: 0.0617 - accuracy: 0.9826 - val_loss: 1.0806 - val_accuracy: 0.7219\n",
      "Epoch 30/100\n",
      "24/24 [==============================] - 4s 162ms/step - loss: 0.0550 - accuracy: 0.9880 - val_loss: 0.9621 - val_accuracy: 0.7487\n",
      "Epoch 31/100\n",
      "24/24 [==============================] - 4s 163ms/step - loss: 0.0876 - accuracy: 0.9772 - val_loss: 1.1030 - val_accuracy: 0.6845\n",
      "Epoch 32/100\n",
      "24/24 [==============================] - 4s 171ms/step - loss: 0.0602 - accuracy: 0.9813 - val_loss: 1.0031 - val_accuracy: 0.7380\n",
      "Epoch 33/100\n",
      "24/24 [==============================] - 4s 162ms/step - loss: 0.0506 - accuracy: 0.9839 - val_loss: 0.9544 - val_accuracy: 0.7540\n",
      "Epoch 34/100\n",
      "24/24 [==============================] - 4s 162ms/step - loss: 0.0605 - accuracy: 0.9799 - val_loss: 1.0041 - val_accuracy: 0.7487\n",
      "Epoch 35/100\n",
      "24/24 [==============================] - 4s 162ms/step - loss: 0.0448 - accuracy: 0.9826 - val_loss: 1.0983 - val_accuracy: 0.7487\n",
      "Epoch 36/100\n",
      "24/24 [==============================] - 4s 163ms/step - loss: 0.0442 - accuracy: 0.9866 - val_loss: 1.0660 - val_accuracy: 0.7433\n",
      "Epoch 37/100\n",
      "24/24 [==============================] - 4s 163ms/step - loss: 0.0557 - accuracy: 0.9853 - val_loss: 1.1938 - val_accuracy: 0.7326\n",
      "Epoch 38/100\n",
      "24/24 [==============================] - 4s 161ms/step - loss: 0.0578 - accuracy: 0.9839 - val_loss: 1.1268 - val_accuracy: 0.7219\n",
      "Epoch 39/100\n",
      "24/24 [==============================] - 4s 158ms/step - loss: 0.0598 - accuracy: 0.9799 - val_loss: 1.0688 - val_accuracy: 0.7487\n",
      "Epoch 40/100\n",
      "24/24 [==============================] - 4s 160ms/step - loss: 0.0340 - accuracy: 0.9880 - val_loss: 1.1887 - val_accuracy: 0.7059\n",
      "Epoch 41/100\n",
      "24/24 [==============================] - 4s 159ms/step - loss: 0.0346 - accuracy: 0.9893 - val_loss: 1.1929 - val_accuracy: 0.7326\n",
      "Epoch 42/100\n",
      "24/24 [==============================] - 4s 160ms/step - loss: 0.0314 - accuracy: 0.9906 - val_loss: 1.2750 - val_accuracy: 0.7380\n",
      "Epoch 43/100\n",
      "24/24 [==============================] - 4s 161ms/step - loss: 0.0342 - accuracy: 0.9880 - val_loss: 1.2853 - val_accuracy: 0.7326\n",
      "Epoch 44/100\n",
      "24/24 [==============================] - 4s 166ms/step - loss: 0.0250 - accuracy: 0.9933 - val_loss: 1.2809 - val_accuracy: 0.7273\n",
      "Epoch 45/100\n",
      "24/24 [==============================] - 4s 163ms/step - loss: 0.0324 - accuracy: 0.9880 - val_loss: 1.2190 - val_accuracy: 0.7326\n",
      "Epoch 46/100\n",
      "24/24 [==============================] - 4s 160ms/step - loss: 0.0248 - accuracy: 0.9920 - val_loss: 1.4504 - val_accuracy: 0.7219\n",
      "Epoch 47/100\n",
      "24/24 [==============================] - 4s 160ms/step - loss: 0.0219 - accuracy: 0.9920 - val_loss: 1.4953 - val_accuracy: 0.7166\n",
      "Epoch 48/100\n",
      "24/24 [==============================] - 4s 161ms/step - loss: 0.0315 - accuracy: 0.9906 - val_loss: 1.4459 - val_accuracy: 0.7273\n",
      "Epoch 49/100\n",
      "24/24 [==============================] - 4s 164ms/step - loss: 0.0195 - accuracy: 0.9906 - val_loss: 1.4934 - val_accuracy: 0.7219\n",
      "Epoch 50/100\n",
      "24/24 [==============================] - 4s 165ms/step - loss: 0.0325 - accuracy: 0.9920 - val_loss: 1.5438 - val_accuracy: 0.7219\n",
      "Epoch 51/100\n",
      "24/24 [==============================] - 4s 166ms/step - loss: 0.0377 - accuracy: 0.9906 - val_loss: 1.4426 - val_accuracy: 0.7326\n",
      "Epoch 52/100\n",
      "24/24 [==============================] - 4s 159ms/step - loss: 0.0147 - accuracy: 0.9960 - val_loss: 1.6025 - val_accuracy: 0.7059\n",
      "Epoch 53/100\n",
      "24/24 [==============================] - 4s 162ms/step - loss: 0.0159 - accuracy: 0.9946 - val_loss: 1.7400 - val_accuracy: 0.7166\n",
      "Epoch 54/100\n",
      "24/24 [==============================] - 4s 170ms/step - loss: 0.0144 - accuracy: 0.9973 - val_loss: 1.8232 - val_accuracy: 0.7166\n",
      "Epoch 55/100\n",
      "24/24 [==============================] - 4s 168ms/step - loss: 0.0272 - accuracy: 0.9933 - val_loss: 1.7635 - val_accuracy: 0.7005\n",
      "Epoch 56/100\n",
      "24/24 [==============================] - 4s 172ms/step - loss: 0.0118 - accuracy: 0.9973 - val_loss: 1.9428 - val_accuracy: 0.7059\n",
      "Epoch 57/100\n",
      "24/24 [==============================] - 4s 173ms/step - loss: 0.0219 - accuracy: 0.9946 - val_loss: 1.8625 - val_accuracy: 0.7112\n"
     ]
    },
    {
     "name": "stdout",
     "output_type": "stream",
     "text": [
      "Epoch 58/100\n",
      "24/24 [==============================] - 4s 164ms/step - loss: 0.0138 - accuracy: 0.9946 - val_loss: 1.8402 - val_accuracy: 0.7059\n",
      "Epoch 59/100\n",
      "24/24 [==============================] - 4s 167ms/step - loss: 0.0192 - accuracy: 0.9906 - val_loss: 1.9652 - val_accuracy: 0.7219\n",
      "Epoch 60/100\n",
      "24/24 [==============================] - 4s 162ms/step - loss: 0.0303 - accuracy: 0.9933 - val_loss: 1.6981 - val_accuracy: 0.7219\n",
      "Epoch 61/100\n",
      "24/24 [==============================] - 4s 171ms/step - loss: 0.0136 - accuracy: 0.9960 - val_loss: 1.9911 - val_accuracy: 0.7059\n",
      "Epoch 62/100\n",
      "24/24 [==============================] - 4s 162ms/step - loss: 0.0107 - accuracy: 0.9960 - val_loss: 1.9682 - val_accuracy: 0.7273\n",
      "Epoch 63/100\n",
      "24/24 [==============================] - 4s 165ms/step - loss: 0.0115 - accuracy: 0.9960 - val_loss: 1.9256 - val_accuracy: 0.7112\n",
      "Epoch 64/100\n",
      "24/24 [==============================] - 4s 178ms/step - loss: 0.0057 - accuracy: 1.0000 - val_loss: 1.9183 - val_accuracy: 0.7219\n",
      "Epoch 65/100\n",
      "24/24 [==============================] - 4s 182ms/step - loss: 0.0154 - accuracy: 0.9960 - val_loss: 2.0031 - val_accuracy: 0.7005\n",
      "Epoch 66/100\n",
      "24/24 [==============================] - 4s 177ms/step - loss: 0.0075 - accuracy: 0.9987 - val_loss: 1.9974 - val_accuracy: 0.7059\n",
      "Epoch 67/100\n",
      "24/24 [==============================] - 5s 199ms/step - loss: 0.0051 - accuracy: 1.0000 - val_loss: 2.0771 - val_accuracy: 0.7005\n",
      "Epoch 68/100\n",
      "24/24 [==============================] - 5s 209ms/step - loss: 0.0035 - accuracy: 1.0000 - val_loss: 2.0035 - val_accuracy: 0.7219\n",
      "Epoch 69/100\n",
      "24/24 [==============================] - 4s 178ms/step - loss: 0.0045 - accuracy: 1.0000 - val_loss: 2.1655 - val_accuracy: 0.7059\n",
      "Epoch 70/100\n",
      "24/24 [==============================] - 4s 169ms/step - loss: 0.0343 - accuracy: 0.9920 - val_loss: 2.2487 - val_accuracy: 0.7112\n",
      "Epoch 71/100\n",
      "24/24 [==============================] - 4s 167ms/step - loss: 0.0436 - accuracy: 0.9920 - val_loss: 2.1389 - val_accuracy: 0.7059\n",
      "Epoch 72/100\n",
      "24/24 [==============================] - 4s 164ms/step - loss: 0.0040 - accuracy: 1.0000 - val_loss: 2.1537 - val_accuracy: 0.7112\n",
      "Epoch 73/100\n",
      "24/24 [==============================] - 4s 162ms/step - loss: 0.0033 - accuracy: 1.0000 - val_loss: 2.1920 - val_accuracy: 0.7112\n",
      "Epoch 74/100\n",
      "24/24 [==============================] - 4s 163ms/step - loss: 0.0017 - accuracy: 1.0000 - val_loss: 2.2353 - val_accuracy: 0.7166\n",
      "Epoch 75/100\n",
      "24/24 [==============================] - 4s 163ms/step - loss: 0.0312 - accuracy: 0.9946 - val_loss: 2.0519 - val_accuracy: 0.7380\n",
      "Epoch 76/100\n",
      "24/24 [==============================] - 4s 169ms/step - loss: 0.0041 - accuracy: 1.0000 - val_loss: 2.2241 - val_accuracy: 0.7273\n",
      "Epoch 77/100\n",
      "24/24 [==============================] - 4s 168ms/step - loss: 0.0019 - accuracy: 1.0000 - val_loss: 2.2364 - val_accuracy: 0.7326\n",
      "Epoch 78/100\n",
      "24/24 [==============================] - 4s 164ms/step - loss: 0.0025 - accuracy: 1.0000 - val_loss: 2.3369 - val_accuracy: 0.7326\n",
      "Epoch 79/100\n",
      "24/24 [==============================] - 4s 167ms/step - loss: 0.0024 - accuracy: 0.9987 - val_loss: 2.1484 - val_accuracy: 0.7219\n",
      "Epoch 80/100\n",
      "24/24 [==============================] - 4s 164ms/step - loss: 0.0517 - accuracy: 0.9906 - val_loss: 2.2317 - val_accuracy: 0.7166\n",
      "Epoch 81/100\n",
      "24/24 [==============================] - 4s 174ms/step - loss: 0.0016 - accuracy: 1.0000 - val_loss: 2.4065 - val_accuracy: 0.7219\n",
      "Epoch 82/100\n",
      "24/24 [==============================] - 4s 173ms/step - loss: 0.0012 - accuracy: 1.0000 - val_loss: 2.4416 - val_accuracy: 0.7273\n",
      "Epoch 83/100\n",
      "24/24 [==============================] - 4s 161ms/step - loss: 0.0332 - accuracy: 0.9960 - val_loss: 2.3233 - val_accuracy: 0.7433\n",
      "Epoch 84/100\n",
      "24/24 [==============================] - 4s 162ms/step - loss: 0.0065 - accuracy: 0.9973 - val_loss: 2.5394 - val_accuracy: 0.7273\n",
      "Epoch 85/100\n",
      "24/24 [==============================] - 4s 176ms/step - loss: 0.0404 - accuracy: 0.9893 - val_loss: 2.2898 - val_accuracy: 0.7273\n",
      "Epoch 86/100\n",
      "24/24 [==============================] - 4s 164ms/step - loss: 0.0011 - accuracy: 1.0000 - val_loss: 2.2969 - val_accuracy: 0.7273\n",
      "Epoch 87/100\n",
      "24/24 [==============================] - 4s 165ms/step - loss: 0.0012 - accuracy: 1.0000 - val_loss: 2.2954 - val_accuracy: 0.7326\n",
      "Epoch 88/100\n",
      "24/24 [==============================] - 4s 162ms/step - loss: 0.0011 - accuracy: 1.0000 - val_loss: 2.3526 - val_accuracy: 0.7380\n",
      "Epoch 89/100\n",
      "24/24 [==============================] - 4s 161ms/step - loss: 0.0116 - accuracy: 0.9987 - val_loss: 2.5375 - val_accuracy: 0.7112\n",
      "Epoch 90/100\n",
      "24/24 [==============================] - 4s 163ms/step - loss: 0.0022 - accuracy: 1.0000 - val_loss: 2.4197 - val_accuracy: 0.7219\n",
      "Epoch 91/100\n",
      "24/24 [==============================] - 4s 161ms/step - loss: 0.0011 - accuracy: 1.0000 - val_loss: 2.4255 - val_accuracy: 0.7112\n",
      "Epoch 92/100\n",
      "24/24 [==============================] - 4s 158ms/step - loss: 0.0011 - accuracy: 1.0000 - val_loss: 2.6367 - val_accuracy: 0.7112\n",
      "Epoch 93/100\n",
      "24/24 [==============================] - 4s 159ms/step - loss: 8.6413e-04 - accuracy: 1.0000 - val_loss: 2.6806 - val_accuracy: 0.7273\n",
      "Epoch 94/100\n",
      "24/24 [==============================] - 4s 160ms/step - loss: 0.0291 - accuracy: 0.9946 - val_loss: 2.7087 - val_accuracy: 0.7112\n",
      "Epoch 95/100\n",
      "24/24 [==============================] - 4s 175ms/step - loss: 8.4228e-04 - accuracy: 1.0000 - val_loss: 2.7301 - val_accuracy: 0.7059\n",
      "Epoch 96/100\n",
      "24/24 [==============================] - 4s 166ms/step - loss: 0.0128 - accuracy: 0.9960 - val_loss: 2.6017 - val_accuracy: 0.7219\n",
      "Epoch 97/100\n",
      "24/24 [==============================] - 4s 169ms/step - loss: 0.0105 - accuracy: 0.9987 - val_loss: 2.7218 - val_accuracy: 0.7166\n",
      "Epoch 98/100\n",
      "24/24 [==============================] - 4s 165ms/step - loss: 0.0031 - accuracy: 0.9987 - val_loss: 2.6906 - val_accuracy: 0.7166\n",
      "Epoch 99/100\n",
      "24/24 [==============================] - 4s 166ms/step - loss: 8.3571e-04 - accuracy: 1.0000 - val_loss: 2.6776 - val_accuracy: 0.7166\n",
      "Epoch 100/100\n",
      "24/24 [==============================] - 4s 163ms/step - loss: 6.7005e-04 - accuracy: 1.0000 - val_loss: 2.7304 - val_accuracy: 0.7326\n"
     ]
    },
    {
     "data": {
      "text/plain": [
       "<tensorflow.python.keras.callbacks.History at 0x7f6463c44520>"
      ]
     },
     "execution_count": 233,
     "metadata": {},
     "output_type": "execute_result"
    }
   ],
   "source": [
    "model = Sequential()\n",
    "model.add(Embedding(vocab, 32, input_length = maxLen))\n",
    "#model.add(LSTM(32, dropout = 0.2, recurrent_dropout = 0.2, return_sequences = True))\n",
    "model.add(LSTM(32, dropout = 0.2, recurrent_dropout = 0.2))\n",
    "model.add(Dense(1, activation = 'sigmoid'))\n",
    "model.compile(optimizer = 'rmsprop',loss = 'binary_crossentropy', metrics = ['accuracy'])\n",
    "model.fit(sequences,targets,validation_split = 0.2, epochs = 100)"
   ]
  },
  {
   "cell_type": "code",
   "execution_count": 234,
   "metadata": {},
   "outputs": [
    {
     "data": {
      "text/plain": [
       "[<matplotlib.lines.Line2D at 0x7f646031c760>]"
      ]
     },
     "execution_count": 234,
     "metadata": {},
     "output_type": "execute_result"
    },
    {
     "data": {
      "image/png": "[encoded data removed]",
      "text/plain": [
       "<Figure size 432x288 with 1 Axes>"
      ]
     },
     "metadata": {
      "needs_background": "light"
     },
     "output_type": "display_data"
    }
   ],
   "source": [
    "import matplotlib.pyplot as plt\n",
    "plt.plot(model.history.history['val_accuracy'])\n",
    "plt.plot(model.history.history['accuracy'])"
   ]
  }
 ],
 "metadata": {
  "kernelspec": {
   "display_name": "Python 3",
   "language": "python",
   "name": "python3"
  },
  "language_info": {
   "codemirror_mode": {
    "name": "ipython",
    "version": 3
   },
   "file_extension": ".py",
   "mimetype": "text/x-python",
   "name": "python",
   "nbconvert_exporter": "python",
   "pygments_lexer": "ipython3",
   "version": "3.8.3"
  }
 },
 "nbformat": 4,
 "nbformat_minor": 4
}
