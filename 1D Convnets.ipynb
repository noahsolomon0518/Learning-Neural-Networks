{
 "cells": [
  {
   "cell_type": "code",
   "execution_count": 1,
   "metadata": {},
   "outputs": [
    {
     "name": "stdout",
     "output_type": "stream",
     "text": [
      "[[   0    0    0 ...   19  178   32]\n",
      " [   0    0    0 ...   16  145   95]\n",
      " [   0    0    0 ...    7  129  113]\n",
      " ...\n",
      " [   0    0    0 ...    4 3586    2]\n",
      " [   0    0    0 ...   12    9   23]\n",
      " [   0    0    0 ...  204  131    9]]\n"
     ]
    }
   ],
   "source": [
    "from keras.datasets import imdb\n",
    "from keras.preprocessing import sequence\n",
    "\n",
    "maxFeatures = 10000\n",
    "maxLen = 500\n",
    "\n",
    "(xTrain, yTrain) , (xTest, yTest) = imdb.load_data(num_words = maxFeatures)\n",
    "\n",
    "xTrain = sequence.pad_sequences(xTrain, maxlen = maxLen)\n",
    "xTest = sequence.pad_sequences(xTest, maxlen = maxLen)\n",
    "\n",
    "print(xTrain)\n",
    "\n"
   ]
  },
  {
   "cell_type": "code",
   "execution_count": 3,
   "metadata": {},
   "outputs": [
    {
     "name": "stdout",
     "output_type": "stream",
     "text": [
      "Model: \"sequential_1\"\n",
      "_________________________________________________________________\n",
      "Layer (type)                 Output Shape              Param #   \n",
      "=================================================================\n",
      "embedding_1 (Embedding)      (None, 500, 128)          1280000   \n",
      "_________________________________________________________________\n",
      "conv1d_2 (Conv1D)            (None, 494, 32)           28704     \n",
      "_________________________________________________________________\n",
      "max_pooling1d_1 (MaxPooling1 (None, 98, 32)            0         \n",
      "_________________________________________________________________\n",
      "conv1d_3 (Conv1D)            (None, 92, 32)            7200      \n",
      "_________________________________________________________________\n",
      "global_max_pooling1d_1 (Glob (None, 32)                0         \n",
      "_________________________________________________________________\n",
      "dense_1 (Dense)              (None, 1)                 33        \n",
      "=================================================================\n",
      "Total params: 1,315,937\n",
      "Trainable params: 1,315,937\n",
      "Non-trainable params: 0\n",
      "_________________________________________________________________\n",
      "Epoch 1/10\n",
      "196/196 [==============================] - 27s 140ms/step - loss: 0.5717 - accuracy: 0.7108 - val_loss: 0.5478 - val_accuracy: 0.8216\n",
      "Epoch 2/10\n",
      "196/196 [==============================] - 28s 140ms/step - loss: 0.4037 - accuracy: 0.8841 - val_loss: 0.4101 - val_accuracy: 0.8700\n",
      "Epoch 3/10\n",
      "196/196 [==============================] - 27s 140ms/step - loss: 0.3082 - accuracy: 0.9231 - val_loss: 0.5926 - val_accuracy: 0.8643\n",
      "Epoch 4/10\n",
      "196/196 [==============================] - 28s 141ms/step - loss: 0.2713 - accuracy: 0.9450 - val_loss: 0.5927 - val_accuracy: 0.8713\n",
      "Epoch 5/10\n",
      "196/196 [==============================] - 27s 140ms/step - loss: 0.1959 - accuracy: 0.9682 - val_loss: 0.7911 - val_accuracy: 0.8626\n",
      "Epoch 6/10\n",
      "196/196 [==============================] - 28s 142ms/step - loss: 0.1595 - accuracy: 0.9797 - val_loss: 0.9943 - val_accuracy: 0.8496\n",
      "Epoch 7/10\n",
      "196/196 [==============================] - 28s 141ms/step - loss: 0.1366 - accuracy: 0.9864 - val_loss: 0.9379 - val_accuracy: 0.8708\n",
      "Epoch 8/10\n",
      "196/196 [==============================] - 28s 141ms/step - loss: 0.1237 - accuracy: 0.9892 - val_loss: 1.6364 - val_accuracy: 0.8211\n",
      "Epoch 9/10\n",
      "196/196 [==============================] - 28s 141ms/step - loss: 0.1218 - accuracy: 0.9899 - val_loss: 1.1420 - val_accuracy: 0.8626\n",
      "Epoch 10/10\n",
      "196/196 [==============================] - 28s 141ms/step - loss: 0.1351 - accuracy: 0.9878 - val_loss: 1.1104 - val_accuracy: 0.8685\n"
     ]
    },
    {
     "data": {
      "text/plain": [
       "<tensorflow.python.keras.callbacks.History at 0x7f1d5c1d0ee0>"
      ]
     },
     "execution_count": 3,
     "metadata": {},
     "output_type": "execute_result"
    }
   ],
   "source": [
    "from keras.models import Sequential\n",
    "from keras.layers import Embedding, Conv1D, Dense, MaxPooling1D, GlobalMaxPool1D\n",
    "model = Sequential()\n",
    "model.add(Embedding(maxFeatures,128, input_length = maxLen))\n",
    "model.add(Conv1D(32, 7, activation = 'relu'))\n",
    "model.add(MaxPooling1D(5))\n",
    "model.add(Conv1D(32,7,activation = 'relu'))\n",
    "model.add(GlobalMaxPool1D())\n",
    "model.add(Dense(1))\n",
    "\n",
    "model.summary()\n",
    "model.compile(optimizer = 'rmsprop', loss = 'binary_crossentropy', metrics = ['accuracy'])\n",
    "model.fit(xTrain,yTrain, validation_data = (xTest,yTest), epochs = 10, batch_size = 128)"
   ]
  },
  {
   "cell_type": "code",
   "execution_count": null,
   "metadata": {},
   "outputs": [],
   "source": []
  }
 ],
 "metadata": {
  "kernelspec": {
   "display_name": "Python 3",
   "language": "python",
   "name": "python3"
  },
  "language_info": {
   "codemirror_mode": {
    "name": "ipython",
    "version": 3
   },
   "file_extension": ".py",
   "mimetype": "text/x-python",
   "name": "python",
   "nbconvert_exporter": "python",
   "pygments_lexer": "ipython3",
   "version": "3.8.3"
  }
 },
 "nbformat": 4,
 "nbformat_minor": 4
}
