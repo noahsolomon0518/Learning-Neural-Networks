{
 "cells": [
  {
   "cell_type": "code",
   "execution_count": 1,
   "metadata": {},
   "outputs": [],
   "source": [
    "from keras.layers import LSTM, Embedding, Dense\n",
    "from keras.models import Sequential\n",
    "\n",
    "\n",
    "model = Sequential()\n",
    "model.add(Embedding(10000,32))\n",
    "model.add(LSTM(32))\n",
    "model.add(Dense(1,activation = 'sigmoid'))\n",
    "model.compile(optimizer='rmsprop', loss = 'binary_crossentropy', metrics = ['accuracy'])\n"
   ]
  },
  {
   "cell_type": "code",
   "execution_count": 2,
   "metadata": {},
   "outputs": [],
   "source": [
    "from keras.datasets import imdb\n",
    "from keras.preprocessing import sequence\n",
    "\n",
    "maxFeatures = 10000          #Number of words to consider features (10000 differnce x values)\n",
    "maxlen = 500\n",
    "batchSize = 32\n",
    "\n",
    "(inputTrain,yTrain),(inputTest, yTest) = imdb.load_data(num_words = maxFeatures)\n",
    "inputTrain = sequence.pad_sequences(inputTrain, maxlen=maxlen)\n",
    "inputTest = sequence.pad_sequences(inputTest, maxlen=maxlen)"
   ]
  },
  {
   "cell_type": "code",
   "execution_count": 4,
   "metadata": {},
   "outputs": [
    {
     "name": "stdout",
     "output_type": "stream",
     "text": [
      "Epoch 1/10\n",
      "157/157 [==============================] - 27s 170ms/step - loss: 0.5389 - accuracy: 0.7459 - val_loss: 0.3792 - val_accuracy: 0.8512\n",
      "Epoch 2/10\n",
      "157/157 [==============================] - 25s 162ms/step - loss: 0.3067 - accuracy: 0.8791 - val_loss: 0.3925 - val_accuracy: 0.8464\n",
      "Epoch 3/10\n",
      "157/157 [==============================] - 25s 161ms/step - loss: 0.2426 - accuracy: 0.9071 - val_loss: 0.2974 - val_accuracy: 0.8726\n",
      "Epoch 4/10\n",
      "157/157 [==============================] - 25s 161ms/step - loss: 0.2043 - accuracy: 0.9252 - val_loss: 0.2850 - val_accuracy: 0.8860\n",
      "Epoch 5/10\n",
      "157/157 [==============================] - 25s 161ms/step - loss: 0.1844 - accuracy: 0.9334 - val_loss: 0.3945 - val_accuracy: 0.8630\n",
      "Epoch 6/10\n",
      "157/157 [==============================] - 25s 161ms/step - loss: 0.1657 - accuracy: 0.9406 - val_loss: 0.3154 - val_accuracy: 0.8916\n",
      "Epoch 7/10\n",
      "157/157 [==============================] - 25s 161ms/step - loss: 0.1506 - accuracy: 0.9477 - val_loss: 0.3287 - val_accuracy: 0.8586\n",
      "Epoch 8/10\n",
      "157/157 [==============================] - 26s 163ms/step - loss: 0.1371 - accuracy: 0.9536 - val_loss: 0.3703 - val_accuracy: 0.8630\n",
      "Epoch 9/10\n",
      "157/157 [==============================] - 25s 161ms/step - loss: 0.1231 - accuracy: 0.9567 - val_loss: 0.3306 - val_accuracy: 0.8822\n",
      "Epoch 10/10\n",
      "157/157 [==============================] - 25s 161ms/step - loss: 0.1162 - accuracy: 0.9593 - val_loss: 0.3439 - val_accuracy: 0.8626\n"
     ]
    }
   ],
   "source": [
    "history = model.fit(inputTrain,yTrain, epochs = 10, batch_size=128, validation_split = 0.2)"
   ]
  },
  {
   "cell_type": "code",
   "execution_count": 3,
   "metadata": {},
   "outputs": [
    {
     "data": {
      "text/plain": [
       "array([[   0,    0,    0, ...,   19,  178,   32],\n",
       "       [   0,    0,    0, ...,   16,  145,   95],\n",
       "       [   0,    0,    0, ...,    7,  129,  113],\n",
       "       ...,\n",
       "       [   0,    0,    0, ...,    4, 3586,    2],\n",
       "       [   0,    0,    0, ...,   12,    9,   23],\n",
       "       [   0,    0,    0, ...,  204,  131,    9]], dtype=int32)"
      ]
     },
     "execution_count": 3,
     "metadata": {},
     "output_type": "execute_result"
    }
   ],
   "source": [
    "inputTrain"
   ]
  },
  {
   "cell_type": "code",
   "execution_count": null,
   "metadata": {},
   "outputs": [],
   "source": []
  }
 ],
 "metadata": {
  "kernelspec": {
   "display_name": "Python 3",
   "language": "python",
   "name": "python3"
  },
  "language_info": {
   "codemirror_mode": {
    "name": "ipython",
    "version": 3
   },
   "file_extension": ".py",
   "mimetype": "text/x-python",
   "name": "python",
   "nbconvert_exporter": "python",
   "pygments_lexer": "ipython3",
   "version": "3.8.3"
  }
 },
 "nbformat": 4,
 "nbformat_minor": 4
}
