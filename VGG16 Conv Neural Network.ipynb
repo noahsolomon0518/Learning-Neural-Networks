{
 "cells": [
  {
   "cell_type": "code",
   "execution_count": 1,
   "metadata": {},
   "outputs": [
    {
     "name": "stdout",
     "output_type": "stream",
     "text": [
      "Model: \"vgg16\"\n",
      "_________________________________________________________________\n",
      "Layer (type)                 Output Shape              Param #   \n",
      "=================================================================\n",
      "input_1 (InputLayer)         [(None, 150, 150, 3)]     0         \n",
      "_________________________________________________________________\n",
      "block1_conv1 (Conv2D)        (None, 150, 150, 64)      1792      \n",
      "_________________________________________________________________\n",
      "block1_conv2 (Conv2D)        (None, 150, 150, 64)      36928     \n",
      "_________________________________________________________________\n",
      "block1_pool (MaxPooling2D)   (None, 75, 75, 64)        0         \n",
      "_________________________________________________________________\n",
      "block2_conv1 (Conv2D)        (None, 75, 75, 128)       73856     \n",
      "_________________________________________________________________\n",
      "block2_conv2 (Conv2D)        (None, 75, 75, 128)       147584    \n",
      "_________________________________________________________________\n",
      "block2_pool (MaxPooling2D)   (None, 37, 37, 128)       0         \n",
      "_________________________________________________________________\n",
      "block3_conv1 (Conv2D)        (None, 37, 37, 256)       295168    \n",
      "_________________________________________________________________\n",
      "block3_conv2 (Conv2D)        (None, 37, 37, 256)       590080    \n",
      "_________________________________________________________________\n",
      "block3_conv3 (Conv2D)        (None, 37, 37, 256)       590080    \n",
      "_________________________________________________________________\n",
      "block3_pool (MaxPooling2D)   (None, 18, 18, 256)       0         \n",
      "_________________________________________________________________\n",
      "block4_conv1 (Conv2D)        (None, 18, 18, 512)       1180160   \n",
      "_________________________________________________________________\n",
      "block4_conv2 (Conv2D)        (None, 18, 18, 512)       2359808   \n",
      "_________________________________________________________________\n",
      "block4_conv3 (Conv2D)        (None, 18, 18, 512)       2359808   \n",
      "_________________________________________________________________\n",
      "block4_pool (MaxPooling2D)   (None, 9, 9, 512)         0         \n",
      "_________________________________________________________________\n",
      "block5_conv1 (Conv2D)        (None, 9, 9, 512)         2359808   \n",
      "_________________________________________________________________\n",
      "block5_conv2 (Conv2D)        (None, 9, 9, 512)         2359808   \n",
      "_________________________________________________________________\n",
      "block5_conv3 (Conv2D)        (None, 9, 9, 512)         2359808   \n",
      "_________________________________________________________________\n",
      "block5_pool (MaxPooling2D)   (None, 4, 4, 512)         0         \n",
      "=================================================================\n",
      "Total params: 14,714,688\n",
      "Trainable params: 14,714,688\n",
      "Non-trainable params: 0\n",
      "_________________________________________________________________\n"
     ]
    }
   ],
   "source": [
    "from keras.applications import VGG16\n",
    "convBase = VGG16(weights = 'imagenet',\n",
    "                include_top = False,\n",
    "                input_shape=(150,150,3))\n",
    "convBase.summary()"
   ]
  },
  {
   "cell_type": "code",
   "execution_count": 9,
   "metadata": {},
   "outputs": [
    {
     "name": "stdout",
     "output_type": "stream",
     "text": [
      "Found 1000 images belonging to 2 classes.\n",
      "Found 2060 images belonging to 2 classes.\n",
      "Found 1000 images belonging to 2 classes.\n"
     ]
    }
   ],
   "source": [
    "from keras.preprocessing.image import ImageDataGenerator\n",
    "import numpy as np\n",
    "valDir = '/home/noah/Datasets/CatDog/validation'\n",
    "testDir = '/home/noah/Datasets/CatDog/smallTest'\n",
    "trainDir = '/home/noah/Datasets/CatDog/smallTrain'\n",
    "\n",
    "datagen = ImageDataGenerator(rescale = 1.0/255)\n",
    "\n",
    "\n",
    "batchSize = 20\n",
    "\n",
    "\n",
    "def extractFeatures(path, nSamples):\n",
    "    gen = datagen.flow_from_directory(path,\n",
    "                                           target_size = (150,150),\n",
    "                                            batch_size = 20,\n",
    "                                           class_mode = 'binary')\n",
    "    x = np.zeros(shape = (nSamples, 4,4,512))\n",
    "    y = np.zeros(shape = (nSamples))\n",
    "    \n",
    "    i = 0\n",
    "    for xBatch,yBatch in gen:\n",
    "        try:\n",
    "            prediction = convBase.predict(xBatch)\n",
    "            x[i*batchSize:(i+1)*batchSize] = prediction\n",
    "            y[i*batchSize:(i+1)*batchSize] = yBatch\n",
    "            i+=1\n",
    "            if(i>=nSamples/batchSize):\n",
    "                break\n",
    "        except:\n",
    "            print(xBatch.shape)\n",
    "    return x,y\n",
    "\n",
    "testFeatures, testLabels = extractFeatures(testDir, 1000)        \n",
    "trainFeatures, trainLabels = extractFeatures(trainDir, 2000)\n",
    "valFeatures,valLabels = extractFeatures(valDir,1000)\n",
    "\n",
    "\n"
   ]
  },
  {
   "cell_type": "code",
   "execution_count": 11,
   "metadata": {},
   "outputs": [],
   "source": [
    "testFeatures = testFeatures.reshape((1000,4*4*512))\n",
    "trainFeatures = trainFeatures.reshape((2000,4*4*512))\n",
    "valFeatures = valFeatures.reshape((1000,4*4*512))"
   ]
  },
  {
   "cell_type": "code",
   "execution_count": 12,
   "metadata": {},
   "outputs": [
    {
     "name": "stdout",
     "output_type": "stream",
     "text": [
      "Epoch 1/30\n",
      "100/100 [==============================] - 1s 13ms/step - loss: 0.6181 - accuracy: 0.6540 - val_loss: 0.4328 - val_accuracy: 0.8290\n",
      "Epoch 2/30\n",
      "100/100 [==============================] - 1s 12ms/step - loss: 0.4336 - accuracy: 0.8005 - val_loss: 0.3547 - val_accuracy: 0.8560\n",
      "Epoch 3/30\n",
      "100/100 [==============================] - 1s 13ms/step - loss: 0.3680 - accuracy: 0.8405 - val_loss: 0.3183 - val_accuracy: 0.8720\n",
      "Epoch 4/30\n",
      "100/100 [==============================] - 1s 12ms/step - loss: 0.3330 - accuracy: 0.8575 - val_loss: 0.2981 - val_accuracy: 0.8690\n",
      "Epoch 5/30\n",
      "100/100 [==============================] - 1s 12ms/step - loss: 0.2983 - accuracy: 0.8815 - val_loss: 0.2785 - val_accuracy: 0.8740\n",
      "Epoch 6/30\n",
      "100/100 [==============================] - 1s 12ms/step - loss: 0.2799 - accuracy: 0.8790 - val_loss: 0.2779 - val_accuracy: 0.8750\n",
      "Epoch 7/30\n",
      "100/100 [==============================] - 1s 12ms/step - loss: 0.2566 - accuracy: 0.8995 - val_loss: 0.2530 - val_accuracy: 0.8920\n",
      "Epoch 8/30\n",
      "100/100 [==============================] - 1s 13ms/step - loss: 0.2348 - accuracy: 0.9110 - val_loss: 0.2510 - val_accuracy: 0.8920\n",
      "Epoch 9/30\n",
      "100/100 [==============================] - 1s 12ms/step - loss: 0.2336 - accuracy: 0.9065 - val_loss: 0.2388 - val_accuracy: 0.8970\n",
      "Epoch 10/30\n",
      "100/100 [==============================] - 1s 12ms/step - loss: 0.2193 - accuracy: 0.9175 - val_loss: 0.2316 - val_accuracy: 0.9030\n",
      "Epoch 11/30\n",
      "100/100 [==============================] - 1s 13ms/step - loss: 0.2054 - accuracy: 0.9180 - val_loss: 0.2188 - val_accuracy: 0.9090\n",
      "Epoch 12/30\n",
      "100/100 [==============================] - 1s 12ms/step - loss: 0.1908 - accuracy: 0.9220 - val_loss: 0.2150 - val_accuracy: 0.9100\n",
      "Epoch 13/30\n",
      "100/100 [==============================] - 1s 12ms/step - loss: 0.1873 - accuracy: 0.9315 - val_loss: 0.2078 - val_accuracy: 0.9110\n",
      "Epoch 14/30\n",
      "100/100 [==============================] - 1s 12ms/step - loss: 0.1762 - accuracy: 0.9370 - val_loss: 0.2072 - val_accuracy: 0.9150\n",
      "Epoch 15/30\n",
      "100/100 [==============================] - 1s 12ms/step - loss: 0.1807 - accuracy: 0.9360 - val_loss: 0.2070 - val_accuracy: 0.9170\n",
      "Epoch 16/30\n",
      "100/100 [==============================] - 1s 12ms/step - loss: 0.1650 - accuracy: 0.9380 - val_loss: 0.1957 - val_accuracy: 0.9190\n",
      "Epoch 17/30\n",
      "100/100 [==============================] - 1s 13ms/step - loss: 0.1672 - accuracy: 0.9375 - val_loss: 0.1924 - val_accuracy: 0.9230\n",
      "Epoch 18/30\n",
      "100/100 [==============================] - 1s 12ms/step - loss: 0.1497 - accuracy: 0.9455 - val_loss: 0.1939 - val_accuracy: 0.9260\n",
      "Epoch 19/30\n",
      "100/100 [==============================] - 1s 13ms/step - loss: 0.1502 - accuracy: 0.9515 - val_loss: 0.1964 - val_accuracy: 0.9220\n",
      "Epoch 20/30\n",
      "100/100 [==============================] - 1s 12ms/step - loss: 0.1401 - accuracy: 0.9535 - val_loss: 0.1990 - val_accuracy: 0.9190\n",
      "Epoch 21/30\n",
      "100/100 [==============================] - 1s 12ms/step - loss: 0.1367 - accuracy: 0.9545 - val_loss: 0.2032 - val_accuracy: 0.9200\n",
      "Epoch 22/30\n",
      "100/100 [==============================] - 1s 14ms/step - loss: 0.1342 - accuracy: 0.9585 - val_loss: 0.1990 - val_accuracy: 0.9200\n",
      "Epoch 23/30\n",
      "100/100 [==============================] - 1s 12ms/step - loss: 0.1271 - accuracy: 0.9560 - val_loss: 0.1861 - val_accuracy: 0.9290\n",
      "Epoch 24/30\n",
      "100/100 [==============================] - 1s 12ms/step - loss: 0.1176 - accuracy: 0.9625 - val_loss: 0.1689 - val_accuracy: 0.9350\n",
      "Epoch 25/30\n",
      "100/100 [==============================] - 1s 12ms/step - loss: 0.1158 - accuracy: 0.9660 - val_loss: 0.1709 - val_accuracy: 0.9350\n",
      "Epoch 26/30\n",
      "100/100 [==============================] - 1s 13ms/step - loss: 0.1093 - accuracy: 0.9665 - val_loss: 0.1781 - val_accuracy: 0.9320\n",
      "Epoch 27/30\n",
      "100/100 [==============================] - 1s 12ms/step - loss: 0.1049 - accuracy: 0.9695 - val_loss: 0.1871 - val_accuracy: 0.9270\n",
      "Epoch 28/30\n",
      "100/100 [==============================] - 1s 12ms/step - loss: 0.1016 - accuracy: 0.9710 - val_loss: 0.1747 - val_accuracy: 0.9310\n",
      "Epoch 29/30\n",
      "100/100 [==============================] - 1s 12ms/step - loss: 0.0958 - accuracy: 0.9790 - val_loss: 0.1520 - val_accuracy: 0.9390\n",
      "Epoch 30/30\n",
      "100/100 [==============================] - 1s 12ms/step - loss: 0.0989 - accuracy: 0.9735 - val_loss: 0.1782 - val_accuracy: 0.9330\n"
     ]
    }
   ],
   "source": [
    "from keras import models, layers, optimizers\n",
    "model = models.Sequential()\n",
    "model.add(layers.Dense(256,activation = 'relu', input_dim = 4*4*512))\n",
    "model.add(layers.Dropout(0.5))\n",
    "model.add(layers.Dense(1, activation = 'sigmoid'))\n",
    "\n",
    "model.compile(optimizer = optimizers.RMSprop(lr=2e-5), loss = 'binary_crossentropy', metrics = ['accuracy'])\n",
    "hist = model.fit(trainFeatures,trainLabels, epochs = 30, batch_size = 20, validation_data = (valFeatures, valLabels))"
   ]
  },
  {
   "cell_type": "code",
   "execution_count": 19,
   "metadata": {},
   "outputs": [
    {
     "data": {
      "text/plain": [
       "[<matplotlib.lines.Line2D at 0x7f12840716a0>]"
      ]
     },
     "execution_count": 19,
     "metadata": {},
     "output_type": "execute_result"
    },
    {
     "data": {
      "image/png": "[encoded data removed]",
      "text/plain": [
       "<Figure size 432x288 with 1 Axes>"
      ]
     },
     "metadata": {
      "needs_background": "light"
     },
     "output_type": "display_data"
    },
    {
     "data": {
      "image/png": "[encoded data removed]",
      "text/plain": [
       "<Figure size 432x288 with 1 Axes>"
      ]
     },
     "metadata": {
      "needs_background": "light"
     },
     "output_type": "display_data"
    }
   ],
   "source": [
    "import matplotlib.pyplot as plt\n",
    "history = hist.history\n",
    "plt.plot(history['accuracy'],'*')\n",
    "plt.plot(history['val_accuracy'])\n",
    "plt.figure()\n",
    "\n",
    "plt.plot(history['loss'],'*')\n",
    "plt.plot(history['val_loss'])"
   ]
  },
  {
   "cell_type": "code",
   "execution_count": 23,
   "metadata": {},
   "outputs": [
    {
     "name": "stdout",
     "output_type": "stream",
     "text": [
      "Model: \"sequential\"\n",
      "_________________________________________________________________\n",
      "Layer (type)                 Output Shape              Param #   \n",
      "=================================================================\n",
      "dense (Dense)                (None, 256)               2097408   \n",
      "_________________________________________________________________\n",
      "dropout (Dropout)            (None, 256)               0         \n",
      "_________________________________________________________________\n",
      "dense_1 (Dense)              (None, 1)                 257       \n",
      "=================================================================\n",
      "Total params: 2,097,665\n",
      "Trainable params: 2,097,665\n",
      "Non-trainable params: 0\n",
      "_________________________________________________________________\n",
      "dense True\n",
      "dropout True\n",
      "dense_1 True\n"
     ]
    }
   ],
   "source": [
    "model.summary()\n",
    "for layer in model.layers:\n",
    "    print(layer.name, layer.trainable)\n",
    "    "
   ]
  },
  {
   "cell_type": "code",
   "execution_count": 25,
   "metadata": {},
   "outputs": [
    {
     "name": "stdout",
     "output_type": "stream",
     "text": [
      "32/32 [==============================] - 0s 3ms/step - loss: 0.1600 - accuracy: 0.9470\n"
     ]
    },
    {
     "data": {
      "text/plain": [
       "[0.15997721254825592, 0.9470000267028809]"
      ]
     },
     "execution_count": 25,
     "metadata": {},
     "output_type": "execute_result"
    }
   ],
   "source": [
    "model.evaluate(testFeatures, testLabels)"
   ]
  },
  {
   "cell_type": "code",
   "execution_count": 29,
   "metadata": {},
   "outputs": [],
   "source": [
    "model.save('catsAndDogsvgg16.h5')"
   ]
  },
  {
   "cell_type": "code",
   "execution_count": null,
   "metadata": {},
   "outputs": [],
   "source": []
  }
 ],
 "metadata": {
  "kernelspec": {
   "display_name": "Python 3",
   "language": "python",
   "name": "python3"
  },
  "language_info": {
   "codemirror_mode": {
    "name": "ipython",
    "version": 3
   },
   "file_extension": ".py",
   "mimetype": "text/x-python",
   "name": "python",
   "nbconvert_exporter": "python",
   "pygments_lexer": "ipython3",
   "version": "3.8.3"
  }
 },
 "nbformat": 4,
 "nbformat_minor": 4
}
