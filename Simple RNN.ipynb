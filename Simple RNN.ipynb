{
 "cells": [
  {
   "cell_type": "code",
   "execution_count": 2,
   "metadata": {},
   "outputs": [
    {
     "name": "stdout",
     "output_type": "stream",
     "text": [
      "Model: \"sequential\"\n",
      "_________________________________________________________________\n",
      "Layer (type)                 Output Shape              Param #   \n",
      "=================================================================\n",
      "embedding (Embedding)        (None, None, 32)          320000    \n",
      "_________________________________________________________________\n",
      "simple_rnn (SimpleRNN)       (None, 32)                2080      \n",
      "=================================================================\n",
      "Total params: 322,080\n",
      "Trainable params: 322,080\n",
      "Non-trainable params: 0\n",
      "_________________________________________________________________\n"
     ]
    }
   ],
   "source": [
    "from keras.layers import SimpleRNN, Embedding\n",
    "from keras.models import Sequential\n",
    "model = Sequential()\n",
    "model.add(Embedding(10000,32))\n",
    "model.add(SimpleRNN(32))\n",
    "model.summary()\n",
    "\n"
   ]
  },
  {
   "cell_type": "code",
   "execution_count": 5,
   "metadata": {},
   "outputs": [
    {
     "name": "stdout",
     "output_type": "stream",
     "text": [
      "Model: \"sequential_3\"\n",
      "_________________________________________________________________\n",
      "Layer (type)                 Output Shape              Param #   \n",
      "=================================================================\n",
      "embedding_3 (Embedding)      (None, None, 32)          320000    \n",
      "_________________________________________________________________\n",
      "simple_rnn_9 (SimpleRNN)     (None, None, 32)          2080      \n",
      "=================================================================\n",
      "Total params: 322,080\n",
      "Trainable params: 322,080\n",
      "Non-trainable params: 0\n",
      "_________________________________________________________________\n"
     ]
    }
   ],
   "source": [
    "model2 = Sequential()\n",
    "model2.add(Embedding(10000,32))\n",
    "model2.add(SimpleRNN(32, return_sequences = True))\n",
    "model2.summary()\n"
   ]
  },
  {
   "cell_type": "code",
   "execution_count": 4,
   "metadata": {},
   "outputs": [
    {
     "name": "stdout",
     "output_type": "stream",
     "text": [
      "Model: \"sequential_2\"\n",
      "_________________________________________________________________\n",
      "Layer (type)                 Output Shape              Param #   \n",
      "=================================================================\n",
      "embedding_2 (Embedding)      (None, None, 32)          320000    \n",
      "_________________________________________________________________\n",
      "simple_rnn_5 (SimpleRNN)     (None, None, 32)          2080      \n",
      "_________________________________________________________________\n",
      "simple_rnn_6 (SimpleRNN)     (None, None, 32)          2080      \n",
      "_________________________________________________________________\n",
      "simple_rnn_7 (SimpleRNN)     (None, None, 32)          2080      \n",
      "_________________________________________________________________\n",
      "simple_rnn_8 (SimpleRNN)     (None, 32)                2080      \n",
      "=================================================================\n",
      "Total params: 328,320\n",
      "Trainable params: 328,320\n",
      "Non-trainable params: 0\n",
      "_________________________________________________________________\n"
     ]
    }
   ],
   "source": [
    "model3 = Sequential()\n",
    "model3.add(Embedding(10000,32))\n",
    "model3.add(SimpleRNN(32, return_sequences = True))\n",
    "model3.add(SimpleRNN(32, return_sequences = True))\n",
    "model3.add(SimpleRNN(32, return_sequences = True))\n",
    "model3.add(SimpleRNN(32))\n",
    "\n",
    "model3.summary()"
   ]
  },
  {
   "cell_type": "code",
   "execution_count": 6,
   "metadata": {},
   "outputs": [
    {
     "name": "stdout",
     "output_type": "stream",
     "text": [
      "25000\n",
      "25000\n"
     ]
    }
   ],
   "source": [
    "from keras.datasets import imdb\n",
    "from keras.preprocessing import sequence\n",
    "\n",
    "maxFeatures = 10000          #Number of words to consider features (10000 differnce x values)\n",
    "maxlen = 500\n",
    "batchSize = 32\n",
    "\n",
    "(inputTrain,yTrain),(inputTest, yTest) = imdb.load_data(num_words = maxFeatures)\n",
    "\n",
    "print(len(inputTrain))\n",
    "print(len(inputTest))"
   ]
  },
  {
   "cell_type": "code",
   "execution_count": 8,
   "metadata": {},
   "outputs": [
    {
     "data": {
      "text/plain": [
       "array([[   0,    0,    0, ...,   19,  178,   32],\n",
       "       [   0,    0,    0, ...,   16,  145,   95],\n",
       "       [   0,    0,    0, ...,    7,  129,  113],\n",
       "       ...,\n",
       "       [   0,    0,    0, ...,    4, 3586,    2],\n",
       "       [   0,    0,    0, ...,   12,    9,   23],\n",
       "       [   0,    0,    0, ...,  204,  131,    9]], dtype=int32)"
      ]
     },
     "execution_count": 8,
     "metadata": {},
     "output_type": "execute_result"
    }
   ],
   "source": [
    "inputTrain = sequence.pad_sequences(inputTrain, maxlen=maxlen)\n",
    "inputTest = sequence.pad_sequences(inputTest, maxlen=maxlen)\n",
    "\n",
    "inputTrain\n",
    "#note: one hot encoding not used"
   ]
  },
  {
   "cell_type": "code",
   "execution_count": 10,
   "metadata": {},
   "outputs": [
    {
     "name": "stdout",
     "output_type": "stream",
     "text": [
      "Epoch 1/10\n",
      "157/157 [==============================] - 13s 82ms/step - loss: 0.6254 - accuracy: 0.6309 - val_loss: 0.4685 - val_accuracy: 0.7898\n",
      "Epoch 2/10\n",
      "157/157 [==============================] - 13s 84ms/step - loss: 0.3865 - accuracy: 0.8385 - val_loss: 0.3516 - val_accuracy: 0.8600\n",
      "Epoch 3/10\n",
      "157/157 [==============================] - 13s 85ms/step - loss: 0.2964 - accuracy: 0.8839 - val_loss: 0.3568 - val_accuracy: 0.8616\n",
      "Epoch 4/10\n",
      "157/157 [==============================] - 13s 85ms/step - loss: 0.2319 - accuracy: 0.9095 - val_loss: 0.4509 - val_accuracy: 0.8168\n",
      "Epoch 5/10\n",
      "157/157 [==============================] - 13s 85ms/step - loss: 0.1800 - accuracy: 0.9328 - val_loss: 0.3723 - val_accuracy: 0.8654\n",
      "Epoch 6/10\n",
      "157/157 [==============================] - 13s 85ms/step - loss: 0.1376 - accuracy: 0.9514 - val_loss: 0.3803 - val_accuracy: 0.8624\n",
      "Epoch 7/10\n",
      "157/157 [==============================] - 13s 85ms/step - loss: 0.0880 - accuracy: 0.9679 - val_loss: 0.4219 - val_accuracy: 0.8468\n",
      "Epoch 8/10\n",
      "157/157 [==============================] - 13s 85ms/step - loss: 0.0626 - accuracy: 0.9803 - val_loss: 0.7324 - val_accuracy: 0.7958\n",
      "Epoch 9/10\n",
      "157/157 [==============================] - 13s 84ms/step - loss: 0.0438 - accuracy: 0.9862 - val_loss: 0.4931 - val_accuracy: 0.8490\n",
      "Epoch 10/10\n",
      "157/157 [==============================] - 13s 85ms/step - loss: 0.0303 - accuracy: 0.9902 - val_loss: 0.6097 - val_accuracy: 0.8084\n"
     ]
    }
   ],
   "source": [
    "from keras.layers import Dense\n",
    "\n",
    "\n",
    "model = Sequential()\n",
    "model.add(Embedding(maxFeatures, 32))\n",
    "model.add(SimpleRNN(32))\n",
    "model.add(Dense(1,activation = 'sigmoid'))\n",
    "\n",
    "\n",
    "model.compile(optimizer = 'rmsprop', loss = 'binary_crossentropy', metrics = ['accuracy'])\n",
    "history = model.fit(inputTrain,yTrain, epochs = 10, batch_size=128, validation_split = 0.2)"
   ]
  },
  {
   "cell_type": "code",
   "execution_count": null,
   "metadata": {},
   "outputs": [],
   "source": []
  }
 ],
 "metadata": {
  "kernelspec": {
   "display_name": "Python 3",
   "language": "python",
   "name": "python3"
  },
  "language_info": {
   "codemirror_mode": {
    "name": "ipython",
    "version": 3
   },
   "file_extension": ".py",
   "mimetype": "text/x-python",
   "name": "python",
   "nbconvert_exporter": "python",
   "pygments_lexer": "ipython3",
   "version": "3.8.3"
  }
 },
 "nbformat": 4,
 "nbformat_minor": 4
}
