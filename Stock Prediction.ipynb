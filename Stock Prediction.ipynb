{
 "cells": [
  {
   "cell_type": "code",
   "execution_count": 2,
   "metadata": {
    "scrolled": true
   },
   "outputs": [
    {
     "data": {
      "text/plain": [
       "array(['open', 'high', 'low', 'close', 'volume', 'unadjustedVolume',\n",
       "       'change', 'changePercent', 'vwap'], dtype='<U16')"
      ]
     },
     "execution_count": 2,
     "metadata": {},
     "output_type": "execute_result"
    }
   ],
   "source": [
    "import numpy as np\n",
    "import csv\n",
    "with open('/home/noah/Datasets/AAPLStock.csv', 'r') as f:\n",
    "    aapl = list(csv.reader(f, delimiter=';'))\n",
    "data = np.asarray(aapl[1:])\n",
    "headers = np.asarray(aapl[0][0].split(\",\")[1:10])\n",
    "headers"
   ]
  },
  {
   "cell_type": "code",
   "execution_count": 43,
   "metadata": {},
   "outputs": [],
   "source": [
    "#Clean data\n",
    "cleanData = np.zeros((len(data), 3))\n",
    "\n",
    "for i,sample in enumerate(data):\n",
    "    for j,feature in enumerate(sample):\n",
    "    \n",
    "        cleanedSample = data[i][0].replace(\"\\''\",\"\").replace(\"\\\"\", \"\").split(',')[1:4]\n",
    "        cleanData[i] = cleanedSample\n",
    "cleanData.shape\n",
    "import numpy as np\n",
    "from sklearn.preprocessing import normalize\n",
    "cleanData = normalize(cleanData, axis = 0)"
   ]
  },
  {
   "cell_type": "code",
   "execution_count": 46,
   "metadata": {},
   "outputs": [
    {
     "data": {
      "text/plain": [
       "array([[[0.01470507, 0.01462658, 0.01460803],\n",
       "        [0.01443893, 0.01449935, 0.01454733],\n",
       "        [0.01461088, 0.01448964, 0.01450779],\n",
       "        [0.01445162, 0.01436472, 0.01435742],\n",
       "        [0.01427305, 0.01446816, 0.01436995]],\n",
       "\n",
       "       [[0.01443893, 0.01449935, 0.01454733],\n",
       "        [0.01461088, 0.01448964, 0.01450779],\n",
       "        [0.01445162, 0.01436472, 0.01435742],\n",
       "        [0.01427305, 0.01446816, 0.01436995],\n",
       "        [0.0146026 , 0.01457679, 0.01453898]],\n",
       "\n",
       "       [[0.01461088, 0.01448964, 0.01450779],\n",
       "        [0.01445162, 0.01436472, 0.01435742],\n",
       "        [0.01427305, 0.01446816, 0.01436995],\n",
       "        [0.0146026 , 0.01457679, 0.01453898],\n",
       "        [0.01444637, 0.01451933, 0.01455819]],\n",
       "\n",
       "       ...,\n",
       "\n",
       "       [[0.03551399, 0.03555491, 0.03570977],\n",
       "        [0.0359469 , 0.0356695 , 0.03588575],\n",
       "        [0.03574726, 0.03562575, 0.03598116],\n",
       "        [0.03601836, 0.03593409, 0.03602781],\n",
       "        [0.0356653 , 0.03568023, 0.03591331]],\n",
       "\n",
       "       [[0.0359469 , 0.0356695 , 0.03588575],\n",
       "        [0.03574726, 0.03562575, 0.03598116],\n",
       "        [0.03601836, 0.03593409, 0.03602781],\n",
       "        [0.0356653 , 0.03568023, 0.03591331],\n",
       "        [0.03598893, 0.03577159, 0.03599177]],\n",
       "\n",
       "       [[0.        , 0.        , 0.        ],\n",
       "        [0.        , 0.        , 0.        ],\n",
       "        [0.        , 0.        , 0.        ],\n",
       "        [0.        , 0.        , 0.        ],\n",
       "        [0.        , 0.        , 0.        ]]])"
      ]
     },
     "execution_count": 46,
     "metadata": {},
     "output_type": "execute_result"
    }
   ],
   "source": [
    "lookback = 5\n",
    "size = len(cleanData)\n",
    "nFeatures = cleanData.shape[-1]\n",
    "x = np.zeros((size-lookback,lookback, nFeatures))\n",
    "y = np.zeros((size-lookback, nFeatures))\n",
    "\n",
    "for i in range(size-lookback-1):\n",
    "    y[i] = cleanData[i+lookback+1]\n",
    "    x[i] = cleanData[i:i+lookback]\n",
    "x"
   ]
  },
  {
   "cell_type": "code",
   "execution_count": 59,
   "metadata": {},
   "outputs": [
    {
     "name": "stdout",
     "output_type": "stream",
     "text": [
      "Epoch 1/100\n",
      "40/40 [==============================] - 0s 2ms/step - loss: 0.0128 - accuracy: 0.2626\n",
      "Epoch 2/100\n",
      "40/40 [==============================] - 0s 3ms/step - loss: 0.0111 - accuracy: 0.2570\n",
      "Epoch 3/100\n",
      "40/40 [==============================] - 0s 2ms/step - loss: 0.0108 - accuracy: 0.2586\n",
      "Epoch 4/100\n",
      "40/40 [==============================] - 0s 2ms/step - loss: 0.0108 - accuracy: 0.2298\n",
      "Epoch 5/100\n",
      "40/40 [==============================] - 0s 3ms/step - loss: 0.0107 - accuracy: 0.2466\n",
      "Epoch 6/100\n",
      "40/40 [==============================] - 0s 2ms/step - loss: 0.0106 - accuracy: 0.2658\n",
      "Epoch 7/100\n",
      "40/40 [==============================] - 0s 2ms/step - loss: 0.0105 - accuracy: 0.2330\n",
      "Epoch 8/100\n",
      "40/40 [==============================] - 0s 2ms/step - loss: 0.0105 - accuracy: 0.2658\n",
      "Epoch 9/100\n",
      "40/40 [==============================] - 0s 2ms/step - loss: 0.0104 - accuracy: 0.2259\n",
      "Epoch 10/100\n",
      "40/40 [==============================] - 0s 2ms/step - loss: 0.0104 - accuracy: 0.2458\n",
      "Epoch 11/100\n",
      "40/40 [==============================] - 0s 2ms/step - loss: 0.0104 - accuracy: 0.2498\n",
      "Epoch 12/100\n",
      "40/40 [==============================] - 0s 2ms/step - loss: 0.0104 - accuracy: 0.2370\n",
      "Epoch 13/100\n",
      "40/40 [==============================] - 0s 3ms/step - loss: 0.0103 - accuracy: 0.2506\n",
      "Epoch 14/100\n",
      "40/40 [==============================] - 0s 2ms/step - loss: 0.0103 - accuracy: 0.2498\n",
      "Epoch 15/100\n",
      "40/40 [==============================] - 0s 3ms/step - loss: 0.0103 - accuracy: 0.2458\n",
      "Epoch 16/100\n",
      "40/40 [==============================] - 0s 2ms/step - loss: 0.0103 - accuracy: 0.2474\n",
      "Epoch 17/100\n",
      "40/40 [==============================] - 0s 3ms/step - loss: 0.0103 - accuracy: 0.2602\n",
      "Epoch 18/100\n",
      "40/40 [==============================] - 0s 2ms/step - loss: 0.0103 - accuracy: 0.2602\n",
      "Epoch 19/100\n",
      "40/40 [==============================] - 0s 2ms/step - loss: 0.0102 - accuracy: 0.2626\n",
      "Epoch 20/100\n",
      "40/40 [==============================] - 0s 2ms/step - loss: 0.0103 - accuracy: 0.2666\n",
      "Epoch 21/100\n",
      "40/40 [==============================] - 0s 3ms/step - loss: 0.0102 - accuracy: 0.2514\n",
      "Epoch 22/100\n",
      "40/40 [==============================] - 0s 3ms/step - loss: 0.0102 - accuracy: 0.2578\n",
      "Epoch 23/100\n",
      "40/40 [==============================] - 0s 3ms/step - loss: 0.0102 - accuracy: 0.2698\n",
      "Epoch 24/100\n",
      "40/40 [==============================] - 0s 2ms/step - loss: 0.0102 - accuracy: 0.2690\n",
      "Epoch 25/100\n",
      "40/40 [==============================] - 0s 3ms/step - loss: 0.0102 - accuracy: 0.2235\n",
      "Epoch 26/100\n",
      "40/40 [==============================] - 0s 3ms/step - loss: 0.0102 - accuracy: 0.2530\n",
      "Epoch 27/100\n",
      "40/40 [==============================] - 0s 2ms/step - loss: 0.0102 - accuracy: 0.2306\n",
      "Epoch 28/100\n",
      "40/40 [==============================] - 0s 3ms/step - loss: 0.0102 - accuracy: 0.2522\n",
      "Epoch 29/100\n",
      "40/40 [==============================] - 0s 2ms/step - loss: 0.0102 - accuracy: 0.2666\n",
      "Epoch 30/100\n",
      "40/40 [==============================] - 0s 3ms/step - loss: 0.0101 - accuracy: 0.2426\n",
      "Epoch 31/100\n",
      "40/40 [==============================] - 0s 3ms/step - loss: 0.0102 - accuracy: 0.2314\n",
      "Epoch 32/100\n",
      "40/40 [==============================] - 0s 3ms/step - loss: 0.0101 - accuracy: 0.2434\n",
      "Epoch 33/100\n",
      "40/40 [==============================] - 0s 2ms/step - loss: 0.0101 - accuracy: 0.2538\n",
      "Epoch 34/100\n",
      "40/40 [==============================] - 0s 3ms/step - loss: 0.0100 - accuracy: 0.2610\n",
      "Epoch 35/100\n",
      "40/40 [==============================] - 0s 2ms/step - loss: 0.0101 - accuracy: 0.2769\n",
      "Epoch 36/100\n",
      "40/40 [==============================] - 0s 2ms/step - loss: 0.0101 - accuracy: 0.2522\n",
      "Epoch 37/100\n",
      "40/40 [==============================] - 0s 2ms/step - loss: 0.0101 - accuracy: 0.2634\n",
      "Epoch 38/100\n",
      "40/40 [==============================] - 0s 2ms/step - loss: 0.0101 - accuracy: 0.2458\n",
      "Epoch 39/100\n",
      "40/40 [==============================] - 0s 3ms/step - loss: 0.0101 - accuracy: 0.2251\n",
      "Epoch 40/100\n",
      "40/40 [==============================] - 0s 3ms/step - loss: 0.0101 - accuracy: 0.2674\n",
      "Epoch 41/100\n",
      "40/40 [==============================] - 0s 3ms/step - loss: 0.0101 - accuracy: 0.2690\n",
      "Epoch 42/100\n",
      "40/40 [==============================] - 0s 2ms/step - loss: 0.0101 - accuracy: 0.2530\n",
      "Epoch 43/100\n",
      "40/40 [==============================] - 0s 3ms/step - loss: 0.0100 - accuracy: 0.2450\n",
      "Epoch 44/100\n",
      "40/40 [==============================] - 0s 2ms/step - loss: 0.0101 - accuracy: 0.2514\n",
      "Epoch 45/100\n",
      "40/40 [==============================] - 0s 3ms/step - loss: 0.0100 - accuracy: 0.2458\n",
      "Epoch 46/100\n",
      "40/40 [==============================] - 0s 2ms/step - loss: 0.0100 - accuracy: 0.2602\n",
      "Epoch 47/100\n",
      "40/40 [==============================] - 0s 3ms/step - loss: 0.0100 - accuracy: 0.2474\n",
      "Epoch 48/100\n",
      "40/40 [==============================] - 0s 2ms/step - loss: 0.0100 - accuracy: 0.2450\n",
      "Epoch 49/100\n",
      "40/40 [==============================] - 0s 3ms/step - loss: 0.0100 - accuracy: 0.2610\n",
      "Epoch 50/100\n",
      "40/40 [==============================] - 0s 2ms/step - loss: 0.0100 - accuracy: 0.2394\n",
      "Epoch 51/100\n",
      "40/40 [==============================] - 0s 3ms/step - loss: 0.0100 - accuracy: 0.2602\n",
      "Epoch 52/100\n",
      "40/40 [==============================] - 0s 3ms/step - loss: 0.0100 - accuracy: 0.2713\n",
      "Epoch 53/100\n",
      "40/40 [==============================] - 0s 3ms/step - loss: 0.0100 - accuracy: 0.2626\n",
      "Epoch 54/100\n",
      "40/40 [==============================] - 0s 2ms/step - loss: 0.0100 - accuracy: 0.2690\n",
      "Epoch 55/100\n",
      "40/40 [==============================] - 0s 2ms/step - loss: 0.0100 - accuracy: 0.2538\n",
      "Epoch 56/100\n",
      "40/40 [==============================] - 0s 2ms/step - loss: 0.0100 - accuracy: 0.2251\n",
      "Epoch 57/100\n",
      "40/40 [==============================] - 0s 2ms/step - loss: 0.0100 - accuracy: 0.2466\n",
      "Epoch 58/100\n",
      "40/40 [==============================] - 0s 2ms/step - loss: 0.0100 - accuracy: 0.2618\n",
      "Epoch 59/100\n",
      "40/40 [==============================] - 0s 2ms/step - loss: 0.0100 - accuracy: 0.2426\n",
      "Epoch 60/100\n",
      "40/40 [==============================] - 0s 3ms/step - loss: 0.0100 - accuracy: 0.2386\n",
      "Epoch 61/100\n",
      "40/40 [==============================] - 0s 2ms/step - loss: 0.0100 - accuracy: 0.2642\n",
      "Epoch 62/100\n",
      "40/40 [==============================] - 0s 3ms/step - loss: 0.0100 - accuracy: 0.2578\n",
      "Epoch 63/100\n",
      "40/40 [==============================] - 0s 2ms/step - loss: 0.0099 - accuracy: 0.2817\n",
      "Epoch 64/100\n",
      "40/40 [==============================] - 0s 2ms/step - loss: 0.0100 - accuracy: 0.2658\n",
      "Epoch 65/100\n",
      "40/40 [==============================] - 0s 2ms/step - loss: 0.0100 - accuracy: 0.2474\n",
      "Epoch 66/100\n",
      "40/40 [==============================] - 0s 2ms/step - loss: 0.0099 - accuracy: 0.2338\n",
      "Epoch 67/100\n",
      "40/40 [==============================] - 0s 3ms/step - loss: 0.0099 - accuracy: 0.2618\n",
      "Epoch 68/100\n",
      "40/40 [==============================] - 0s 2ms/step - loss: 0.0099 - accuracy: 0.2362\n",
      "Epoch 69/100\n",
      "40/40 [==============================] - 0s 2ms/step - loss: 0.0100 - accuracy: 0.2554\n",
      "Epoch 70/100\n",
      "40/40 [==============================] - 0s 2ms/step - loss: 0.0099 - accuracy: 0.2506\n",
      "Epoch 71/100\n",
      "40/40 [==============================] - 0s 2ms/step - loss: 0.0099 - accuracy: 0.2306\n",
      "Epoch 72/100\n",
      "40/40 [==============================] - 0s 3ms/step - loss: 0.0099 - accuracy: 0.2466\n",
      "Epoch 73/100\n",
      "40/40 [==============================] - 0s 3ms/step - loss: 0.0100 - accuracy: 0.2394\n",
      "Epoch 74/100\n",
      "40/40 [==============================] - 0s 3ms/step - loss: 0.0099 - accuracy: 0.2538\n",
      "Epoch 75/100\n",
      "40/40 [==============================] - 0s 3ms/step - loss: 0.0099 - accuracy: 0.2578\n",
      "Epoch 76/100\n",
      "40/40 [==============================] - 0s 2ms/step - loss: 0.0099 - accuracy: 0.2466\n",
      "Epoch 77/100\n",
      "40/40 [==============================] - 0s 3ms/step - loss: 0.0099 - accuracy: 0.2594\n",
      "Epoch 78/100\n",
      "40/40 [==============================] - 0s 2ms/step - loss: 0.0099 - accuracy: 0.2482\n",
      "Epoch 79/100\n",
      "40/40 [==============================] - 0s 2ms/step - loss: 0.0099 - accuracy: 0.2522\n",
      "Epoch 80/100\n",
      "40/40 [==============================] - 0s 2ms/step - loss: 0.0099 - accuracy: 0.2314\n",
      "Epoch 81/100\n",
      "40/40 [==============================] - 0s 2ms/step - loss: 0.0099 - accuracy: 0.2410\n",
      "Epoch 82/100\n",
      "40/40 [==============================] - 0s 3ms/step - loss: 0.0099 - accuracy: 0.2522\n",
      "Epoch 83/100\n"
     ]
    },
    {
     "name": "stdout",
     "output_type": "stream",
     "text": [
      "40/40 [==============================] - 0s 2ms/step - loss: 0.0100 - accuracy: 0.2658\n",
      "Epoch 84/100\n",
      "40/40 [==============================] - 0s 2ms/step - loss: 0.0099 - accuracy: 0.2442\n",
      "Epoch 85/100\n",
      "40/40 [==============================] - 0s 2ms/step - loss: 0.0099 - accuracy: 0.2370\n",
      "Epoch 86/100\n",
      "40/40 [==============================] - 0s 2ms/step - loss: 0.0099 - accuracy: 0.2275\n",
      "Epoch 87/100\n",
      "40/40 [==============================] - 0s 2ms/step - loss: 0.0099 - accuracy: 0.2562\n",
      "Epoch 88/100\n",
      "40/40 [==============================] - 0s 2ms/step - loss: 0.0099 - accuracy: 0.2713\n",
      "Epoch 89/100\n",
      "40/40 [==============================] - 0s 2ms/step - loss: 0.0099 - accuracy: 0.2650\n",
      "Epoch 90/100\n",
      "40/40 [==============================] - 0s 2ms/step - loss: 0.0099 - accuracy: 0.2538\n",
      "Epoch 91/100\n",
      "40/40 [==============================] - 0s 2ms/step - loss: 0.0099 - accuracy: 0.2338\n",
      "Epoch 92/100\n",
      "40/40 [==============================] - 0s 3ms/step - loss: 0.0099 - accuracy: 0.2402\n",
      "Epoch 93/100\n",
      "40/40 [==============================] - 0s 2ms/step - loss: 0.0099 - accuracy: 0.2546\n",
      "Epoch 94/100\n",
      "40/40 [==============================] - 0s 2ms/step - loss: 0.0099 - accuracy: 0.2378\n",
      "Epoch 95/100\n",
      "40/40 [==============================] - 0s 2ms/step - loss: 0.0099 - accuracy: 0.2450\n",
      "Epoch 96/100\n",
      "40/40 [==============================] - 0s 2ms/step - loss: 0.0099 - accuracy: 0.2386\n",
      "Epoch 97/100\n",
      "40/40 [==============================] - 0s 2ms/step - loss: 0.0099 - accuracy: 0.2650\n",
      "Epoch 98/100\n",
      "40/40 [==============================] - 0s 2ms/step - loss: 0.0099 - accuracy: 0.2466\n",
      "Epoch 99/100\n",
      "40/40 [==============================] - 0s 2ms/step - loss: 0.0099 - accuracy: 0.2554\n",
      "Epoch 100/100\n",
      "40/40 [==============================] - 0s 2ms/step - loss: 0.0099 - accuracy: 0.2690\n"
     ]
    },
    {
     "data": {
      "text/plain": [
       "<tensorflow.python.keras.callbacks.History at 0x7fdcaa303280>"
      ]
     },
     "execution_count": 59,
     "metadata": {},
     "output_type": "execute_result"
    }
   ],
   "source": [
    "from keras.models import Sequential\n",
    "from keras.layers import Dense, LSTM\n",
    "model = Sequential()\n",
    "model.add(LSTM(32))\n",
    "model.add(Dense(3, activation = 'relu'))\\\n",
    "\n",
    "model.compile( optimizer = 'rmsprop', loss = 'mae', metrics = ['accuracy'])\n",
    "model.fit(x,y,epochs = 100, batch_size = 32)\n"
   ]
  },
  {
   "cell_type": "markdown",
   "metadata": {},
   "source": [
    "x"
   ]
  },
  {
   "cell_type": "code",
   "execution_count": 60,
   "metadata": {},
   "outputs": [
    {
     "data": {
      "text/plain": [
       "array([[0.01339916, 0.01371498, 0.        ],\n",
       "       [0.01347154, 0.013785  , 0.        ]], dtype=float32)"
      ]
     },
     "execution_count": 60,
     "metadata": {},
     "output_type": "execute_result"
    }
   ],
   "source": [
    "\n",
    "\n",
    "model.predict(x[0:2])"
   ]
  },
  {
   "cell_type": "code",
   "execution_count": 61,
   "metadata": {},
   "outputs": [
    {
     "data": {
      "text/plain": [
       "array([[0.01443893, 0.01449935, 0.01454733],\n",
       "       [0.01461088, 0.01448964, 0.01450779],\n",
       "       [0.01445162, 0.01436472, 0.01435742],\n",
       "       [0.01427305, 0.01446816, 0.01436995],\n",
       "       [0.0146026 , 0.01457679, 0.01453898]])"
      ]
     },
     "execution_count": 61,
     "metadata": {},
     "output_type": "execute_result"
    }
   ],
   "source": [
    "x[1]"
   ]
  },
  {
   "cell_type": "code",
   "execution_count": 62,
   "metadata": {},
   "outputs": [
    {
     "data": {
      "text/plain": [
       "array([0.01465558, 0.01457376, 0.0146963 ])"
      ]
     },
     "execution_count": 62,
     "metadata": {},
     "output_type": "execute_result"
    }
   ],
   "source": [
    "y[1]"
   ]
  },
  {
   "cell_type": "code",
   "execution_count": null,
   "metadata": {},
   "outputs": [],
   "source": []
  }
 ],
 "metadata": {
  "kernelspec": {
   "display_name": "Python 3",
   "language": "python",
   "name": "python3"
  },
  "language_info": {
   "codemirror_mode": {
    "name": "ipython",
    "version": 3
   },
   "file_extension": ".py",
   "mimetype": "text/x-python",
   "name": "python",
   "nbconvert_exporter": "python",
   "pygments_lexer": "ipython3",
   "version": "3.8.3"
  }
 },
 "nbformat": 4,
 "nbformat_minor": 4
}
