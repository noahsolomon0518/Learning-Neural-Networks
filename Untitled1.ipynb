{
 "cells": [
  {
   "cell_type": "code",
   "execution_count": 15,
   "metadata": {},
   "outputs": [],
   "source": [
    "import os, shutil\n",
    "baseDir = \"/home/noah/Datasets/CatDog\"\n",
    "animals = ['cat', 'dog']\n",
    "for animal in animals:\n",
    "\n",
    "    catTrain = [animal+\".{}.jpg\".format(i) for i in range(1000)]\n",
    "    for pic in catTrain:\n",
    "        try:\n",
    "            shutil.copyfile(os.path.join(baseDir, 'train/'+pic), os.path.join(baseDir, 'smallTrain/'+animal+'/'+pic))\n",
    "        except:\n",
    "            pass\n",
    "\n",
    "    catTest = [animal+\".{}.jpg\".format(i+1000) for i in range(500)]\n",
    "    for pic in catTest:\n",
    "        try:\n",
    "            shutil.copyfile(os.path.join(baseDir, 'train/'+pic), os.path.join(baseDir, 'smallTest/'+animal+'/'+pic))\n",
    "        except:\n",
    "            pass\n",
    "        \n",
    "    catVal = [animal+\".{}.jpg\".format(i+1500) for i in range(500)]\n",
    "    for pic in catVal:\n",
    "        try:\n",
    "            shutil.copyfile(os.path.join(baseDir, 'train/'+pic), os.path.join(baseDir, 'validation/'+animal+'/'+pic))\n",
    "        except:\n",
    "            pass"
   ]
  },
  {
   "cell_type": "code",
   "execution_count": null,
   "metadata": {},
   "outputs": [],
   "source": []
  }
 ],
 "metadata": {
  "kernelspec": {
   "display_name": "Python 3",
   "language": "python",
   "name": "python3"
  },
  "language_info": {
   "codemirror_mode": {
    "name": "ipython",
    "version": 3
   },
   "file_extension": ".py",
   "mimetype": "text/x-python",
   "name": "python",
   "nbconvert_exporter": "python",
   "pygments_lexer": "ipython3",
   "version": "3.8.3"
  }
 },
 "nbformat": 4,
 "nbformat_minor": 4
}
